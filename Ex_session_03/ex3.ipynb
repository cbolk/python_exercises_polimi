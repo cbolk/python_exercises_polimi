{
 "cells": [
  {
   "cell_type": "markdown",
   "metadata": {},
   "source": [
    "# ex 3.1\n",
    "\n",
    "Prepare on you PC in the SAME directory of our python program\n",
    "a file composed by multiple integer values, comma separated \n",
    "like that: \n",
    "\n",
    "120,230,100,400,500  called samples.csv\n",
    "\n",
    "Write a program that reads these values and outputs the sum of all values, max, and min found, \n",
    "\n",
    "or False if no data in file.\n"
   ]
  },
  {
   "cell_type": "code",
   "execution_count": 2,
   "metadata": {},
   "outputs": [
    {
     "name": "stdout",
     "output_type": "stream",
     "text": [
      "1230 500 100\n"
     ]
    }
   ],
   "source": [
    "\n",
    "FNAME = \"samples.csv\"\n",
    "\n",
    "f=open(FNAME)\n",
    "\n",
    "lines = f.read().splitlines() #prevent be user has typed return.\n",
    "lineCount = len(lines)\n",
    "if lineCount > 0:\n",
    "\tline = lines[0]\t\t#take first only\n",
    "\telementsList = line.split(',')\n",
    "\telementsCount = len(elementsList)\n",
    "\tsum = 0\n",
    "\tif elementsCount>0:\n",
    "\t\tmax = int(elementsList[0])\n",
    "\t\tmin = int(elementsList[0])\n",
    "\t\tfor i in range(1, elementsCount):\n",
    "\t\t\tvalue = int(elementsList[i])\n",
    "\t\t\tsum += value\n",
    "\t\t\tif value >max:\n",
    "\t\t\t\tmax = value\n",
    "\t\t\tif value < min:\n",
    "\t\t\t\tmin = value\n",
    "\t\tprint(sum, max, min)\n",
    "\telse:\n",
    "\t\tprint(False)\n",
    "\n",
    "else:\n",
    "\tprint(False)\n",
    "    "
   ]
  },
  {
   "cell_type": "code",
   "execution_count": null,
   "metadata": {},
   "outputs": [],
   "source": [
    "# ex 3.2\n",
    "\n",
    "Get from \"Beep\" of course (ex3 -> materials)\n",
    "The file patient_samples.csv and copy in directory of our python program.\n",
    "\n",
    "The file has structure:\n",
    "    \n",
    "Smith,80,90,90,95,100\n",
    "Cooper,80,90,90,95,120\n",
    "\n",
    "Where for every patients, we have surname and 5 values of blood pressure.\n",
    "\n",
    "Write a program that reads data and prints patient with highest average pressure. "
   ]
  },
  {
   "cell_type": "code",
   "execution_count": 4,
   "metadata": {},
   "outputs": [
    {
     "ename": "TypeError",
     "evalue": "'int' object is not callable",
     "output_type": "error",
     "traceback": [
      "\u001b[0;31m---------------------------------------------------------------------------\u001b[0m",
      "\u001b[0;31mTypeError\u001b[0m                                 Traceback (most recent call last)",
      "\u001b[0;32m<ipython-input-4-8d5025242c57>\u001b[0m in \u001b[0;36m<module>\u001b[0;34m\u001b[0m\n\u001b[1;32m     14\u001b[0m                         \u001b[0mpressures\u001b[0m \u001b[0;34m=\u001b[0m  \u001b[0mlist\u001b[0m\u001b[0;34m(\u001b[0m\u001b[0mmap\u001b[0m\u001b[0;34m(\u001b[0m\u001b[0mint\u001b[0m\u001b[0;34m,\u001b[0m \u001b[0melements\u001b[0m\u001b[0;34m[\u001b[0m\u001b[0;36m1\u001b[0m\u001b[0;34m:\u001b[0m\u001b[0;34m]\u001b[0m\u001b[0;34m)\u001b[0m\u001b[0;34m)\u001b[0m  \u001b[0;31m#take from 2nd AND convert ('map') from string to int\u001b[0m\u001b[0;34m\u001b[0m\u001b[0;34m\u001b[0m\u001b[0m\n\u001b[1;32m     15\u001b[0m                         \u001b[0;31m#print(pressures)\u001b[0m\u001b[0;34m\u001b[0m\u001b[0;34m\u001b[0m\u001b[0;34m\u001b[0m\u001b[0m\n\u001b[0;32m---> 16\u001b[0;31m                         \u001b[0mrowAvg\u001b[0m \u001b[0;34m=\u001b[0m \u001b[0msum\u001b[0m\u001b[0;34m(\u001b[0m\u001b[0mpressures\u001b[0m\u001b[0;34m)\u001b[0m \u001b[0;34m/\u001b[0m \u001b[0;34m(\u001b[0m\u001b[0melementsCount\u001b[0m\u001b[0;34m-\u001b[0m\u001b[0;36m1\u001b[0m\u001b[0;34m)\u001b[0m\u001b[0;34m\u001b[0m\u001b[0;34m\u001b[0m\u001b[0m\n\u001b[0m\u001b[1;32m     17\u001b[0m                         \u001b[0;32mif\u001b[0m \u001b[0mrowAvg\u001b[0m\u001b[0;34m>\u001b[0m\u001b[0mmaxAveragePressure\u001b[0m\u001b[0;34m:\u001b[0m\u001b[0;34m\u001b[0m\u001b[0;34m\u001b[0m\u001b[0m\n\u001b[1;32m     18\u001b[0m                                 \u001b[0mmaxAveragePressure\u001b[0m \u001b[0;34m=\u001b[0m \u001b[0mrowAvg\u001b[0m\u001b[0;34m\u001b[0m\u001b[0;34m\u001b[0m\u001b[0m\n",
      "\u001b[0;31mTypeError\u001b[0m: 'int' object is not callable"
     ]
    }
   ],
   "source": [
    "\n",
    "FNAME = \"patient_samples.csv\"\n",
    "f=open(FNAME)\n",
    "lines = f.read().splitlines()\n",
    "\n",
    "numOfPatients = len(lines)\n",
    "if numOfPatients > 0:\n",
    "\tmaxAveragePressure = 0\n",
    "\tindexOfPatient = 0\n",
    "\tfor i in range(len(lines)):\n",
    "\t\tline = lines[i]\n",
    "\t\telements = line.split(',')\n",
    "\t\telementsCount = len(elements)\n",
    "\t\tif elementsCount > 0:\n",
    "\t\t\tpressures =  list(map(int, elements[1:]))  #take from 2nd AND convert ('map') from string to int\n",
    "\t\t\t#print(pressures)\n",
    "\t\t\trowAvg = sum(pressures) / (elementsCount-1)\n",
    "\t\t\tif rowAvg>maxAveragePressure:\n",
    "\t\t\t\tmaxAveragePressure = rowAvg\n",
    "\t\t\t\tindexOfPatient = i\n",
    "\n",
    "\n",
    "\tsurname = lines[indexOfPatient].split(',')[0]\n",
    "\tprint(surname)\n",
    "else:\n",
    "\tprint(False)"
   ]
  },
  {
   "cell_type": "code",
   "execution_count": null,
   "metadata": {},
   "outputs": [],
   "source": []
  }
 ],
 "metadata": {
  "kernelspec": {
   "display_name": "Python 3",
   "language": "python",
   "name": "python3"
  },
  "language_info": {
   "codemirror_mode": {
    "name": "ipython",
    "version": 3
   },
   "file_extension": ".py",
   "mimetype": "text/x-python",
   "name": "python",
   "nbconvert_exporter": "python",
   "pygments_lexer": "ipython3",
   "version": "3.9.0"
  }
 },
 "nbformat": 4,
 "nbformat_minor": 4
}
