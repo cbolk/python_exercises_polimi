{
 "cells": [
  {
   "cell_type": "markdown",
   "metadata": {},
   "source": [
    "# ex 3.1\n",
    "\n",
    "Prepare on you PC in the SAME directory of our python program\n",
    "a file composed by multiple integer values, comma separated \n",
    "like that: \n",
    "\n",
    "120,230,100,400,500  called samples.csv\n",
    "\n",
    "Write a program that reads these values and outputs the sum of all values, max, and min found, \n",
    "\n",
    "or False if no data in file.\n"
   ]
  },
  {
   "cell_type": "code",
   "execution_count": 2,
   "metadata": {},
   "outputs": [
    {
     "name": "stdout",
     "output_type": "stream",
     "text": [
      "1230 500 100\n"
     ]
    }
   ],
   "source": [
    "\n",
    "FNAME = \"samples.csv\"\n",
    "\n",
    "f=open(FNAME)\n",
    "\n",
    "lines = f.read().splitlines() #prevent be user has typed return.\n",
    "lineCount = len(lines)\n",
    "if lineCount > 0:\n",
    "\tline = lines[0]\t\t#take first only\n",
    "\telementsList = line.split(',')\n",
    "\telementsCount = len(elementsList)\n",
    "\tsum = 0\n",
    "\tif elementsCount>0:\n",
    "\t\tmax = int(elementsList[0])\n",
    "\t\tmin = int(elementsList[0])\n",
    "\t\tfor i in range(1, elementsCount):\n",
    "\t\t\tvalue = int(elementsList[i])\n",
    "\t\t\tsum += value\n",
    "\t\t\tif value >max:\n",
    "\t\t\t\tmax = value\n",
    "\t\t\tif value < min:\n",
    "\t\t\t\tmin = value\n",
    "\t\tprint(sum, max, min)\n",
    "\telse:\n",
    "\t\tprint(False)\n",
    "\n",
    "else:\n",
    "\tprint(False)\n",
    "    "
   ]
  },
  {
   "cell_type": "code",
   "execution_count": null,
   "metadata": {},
   "outputs": [],
   "source": [
    "# ex 3.2\n",
    "\n",
    "Get from \"Beep\" of course (ex3 -> materials)\n",
    "The file patient_samples.csv and copy in directory of our python program.\n",
    "\n",
    "The file has structure:\n",
    "    \n",
    "Smith,80,90,90,95,100\n",
    "\n",
    "Cooper,80,90,90,95,120\n",
    "\n",
    "Where for every patients, we have surname and 5 values of blood pressure.\n",
    "\n",
    "Write a program that reads data and prints patient with highest average pressure. "
   ]
  },
  {
   "cell_type": "code",
   "execution_count": 3,
   "metadata": {},
   "outputs": [
    {
     "name": "stdout",
     "output_type": "stream",
     "text": [
      "Cooper\n"
     ]
    }
   ],
   "source": [
    "FNAME = \"patient_samples.csv\"\n",
    "f=open(FNAME)\n",
    "lines = f.read().splitlines()\n",
    "\n",
    "numOfPatients = len(lines)\n",
    "if numOfPatients > 0:\n",
    "\tmaxAveragePressure = 0\n",
    "\tindexOfPatient = 0\n",
    "\tfor i in range(len(lines)):\n",
    "\t\tline = lines[i]\n",
    "\t\telements = line.split(',')\n",
    "\t\telementsCount = len(elements)\n",
    "\t\tif elementsCount > 0:\n",
    "\t\t\tpressures =  list(map(int, elements[1:]))  #take from 2nd AND convert ('map') from string to int\n",
    "\t\t\t#print(pressures)\n",
    "\t\t\trowAvg = sum(pressures) / (elementsCount-1)\n",
    "\t\t\tif rowAvg>maxAveragePressure:\n",
    "\t\t\t\tmaxAveragePressure = rowAvg\n",
    "\t\t\t\tindexOfPatient = i\n",
    "\n",
    "\n",
    "\tsurname = lines[indexOfPatient].split(',')[0]\n",
    "\tprint(surname)\n",
    "else:\n",
    "\tprint(False)"
   ]
  },
  {
   "cell_type": "markdown",
   "metadata": {},
   "source": [
    "# ex 3.3\n",
    "\n",
    "\n",
    "On WHO site:\n",
    "\n",
    "- files  ( https://www.who.int/tb/country/data/download/en/)\n",
    "   \n",
    "- Terminology used (https://extranet.who.int/tme/generateCSV.asp?ds=dictionary)\n",
    "\n",
    "Download: \"WHO TB incidence estimates disaggregated by....\"\n",
    "\n",
    "https://extranet.who.int/tme/generateCSV.asp?ds=estimates_age_sex\n",
    " \n",
    "\n",
    "After copying \"TB_burden_age_sex_2020-11-05.csv\" in your working directory, \n",
    "\n",
    "write a python program that asks user 2 iso codes, reads that file and outputs them sum of  all values in \"best\" column for female sex, \n",
    "\n",
    "or False if no data in file.\n",
    "\n"
   ]
  },
  {
   "cell_type": "code",
   "execution_count": 4,
   "metadata": {},
   "outputs": [
    {
     "name": "stdout",
     "output_type": "stream",
     "text": [
      "1st ISO code AF\n",
      "2nd ISO code AF\n",
      "118973\n"
     ]
    }
   ],
   "source": [
    "iso1 = str(input('1st ISO code '))\n",
    "iso2 = str(input('2nd ISO code '))\n",
    "\n",
    "isoSet = {iso1, iso2}  # build a set.\n",
    "FNAME = \"TB_burden_age_sex_2020-11-05.csv\"\n",
    "#FNAME = \"TB_burden_reduced.csv\"\n",
    "f=open(FNAME)\n",
    "lines = f.read().splitlines()\n",
    "nOfLines = len(lines)\n",
    "if nOfLines > 0:\n",
    "\tsum = 0\n",
    "\ttitleRow = lines[0].replace('\"', '')\n",
    "\tcolumnsTitles = titleRow.split(',')\n",
    "\tcolumnOfBest =  columnsTitles.index('best')\n",
    "\tcolumnOfISOCode = columnsTitles.index('iso2')\n",
    "\tcolumnOfSex = columnsTitles.index('sex')\n",
    "\tfor i in range(1, len(lines)):\n",
    "\t\tline = lines[i].replace('\"', '')\n",
    "\t\tcolumnsValues = line.split(',')\n",
    "\t\ta = columnsValues[columnOfISOCode]\n",
    "\t\tb = columnsValues[columnOfSex]\n",
    "\n",
    "\t\tif columnsValues[columnOfISOCode] in isoSet and columnsValues[columnOfSex] == 'f':\n",
    "\t\t\tsum = sum + int(columnsValues[columnOfBest])\n",
    "\tprint(sum)\n",
    "else:\n",
    "\tprint(False)"
   ]
  },
  {
   "cell_type": "markdown",
   "metadata": {},
   "source": [
    "## EX 3.4\n",
    "\n",
    "Get from \"Beep\" of course (ex3 -> materials)\n",
    "The file visits.csv and copy in directory of your python program.\n",
    "\n",
    "(The file has structure TAB delmited)\n",
    "\n",
    "\n",
    "Write a program that reads data and prints patients with no duplicates, with their first visit.\n"
   ]
  },
  {
   "cell_type": "code",
   "execution_count": 5,
   "metadata": {},
   "outputs": [
    {
     "name": "stdout",
     "output_type": "stream",
     "text": [
      "('Anderson', '2020-11-06')\n",
      "('Brown', '2020-11-04')\n",
      "('Clark', '2020-11-07')\n",
      "('Davis', '2020-11-05')\n",
      "('Garcia', '2020-11-05')\n",
      "('Gonzalez', '2020-11-06')\n",
      "('Hall', '2020-11-07')\n",
      "('Harris', '2020-11-07')\n",
      "('Hernandez', '2020-11-06')\n",
      "('Jackson', '2020-11-06')\n",
      "('Johnson', '2020-11-03')\n",
      "('Jones', '2020-11-04')\n",
      "('Lee', '2020-11-06')\n",
      "('Lewis', '2020-11-07')\n",
      "('Lopez', '2020-11-06')\n",
      "('Martin', '2020-11-06')\n",
      "('Martinez', '2020-11-06')\n",
      "('Miller', '2020-11-05')\n",
      "('Moore', '2020-11-06')\n",
      "('Robinson', '2020-11-07')\n",
      "('Rodriguez', '2020-11-06')\n",
      "('Smith', '2020-11-03')\n",
      "('Taylor', '2020-11-06')\n",
      "('Thomas', '2020-11-06')\n",
      "('Thompson', '2020-11-06')\n",
      "('Walker', '2020-11-07')\n",
      "('White', '2020-11-06')\n",
      "('Williams', '2020-11-04')\n",
      "('Wilson', '2020-11-06')\n"
     ]
    }
   ],
   "source": [
    "FNAME = \"visits.txt\"  # TAB delimited\n",
    "\n",
    "surnames = ()\n",
    "firstVisits = []   # will be array of tuples\n",
    "\n",
    "try:\n",
    "    #go line by line to save memory\n",
    "    f = open(FNAME)\n",
    "    next(f) #skip first\n",
    "    for line in f:\n",
    "        cleanedLline = line.rstrip('\\r\\n') # strip out all tailing whitespace\n",
    "        elems = cleanedLline.split('\\t')\n",
    "        #print(elems)\n",
    "        surname = elems[0]\n",
    "        date = elems[1]\n",
    "        if surname not in surnames:\n",
    "            surnames = surnames + (surname, ) # tuples are immutable, create new ONE.\n",
    "            # note sintax-pyton 3\n",
    "            #surnames = (*surnames, surname)\n",
    "            t = (surname, date)\n",
    "            firstVisits.append(tuple(t))\n",
    "\n",
    "    for v in sorted(firstVisits):\n",
    "        print(v)\n",
    "except:\n",
    "    print(False)"
   ]
  },
  {
   "cell_type": "markdown",
   "metadata": {},
   "source": [
    "## ex 3.5\n",
    "\n",
    "After copying \"patients.csv\" \n",
    "\n",
    "\"name\",\"surname\", \"Hgmm\",\"ward\"\n",
    "\n",
    "\"John\",\"Doe\",670, \"Cardiology\"\n",
    "\n",
    "\"Bill\",\"Black\",930, \"Cardiology\"\n",
    "\n",
    "\"Mark\",\"Smith\", 870,\"Neurology\"\n",
    "\n",
    "\"Sarah\",\"Johnes\",920, \"Nephrology\"\n",
    "\n",
    "\n",
    "\n",
    "in your working directory, \n",
    "\n",
    "write a python program that reads that file and outputs the \n",
    "patients with \"Hgmm\" > 680 of wards \n",
    "\"Cardiology\" and \"Neurology\"\n",
    "\n",
    "or False if no data in file."
   ]
  },
  {
   "cell_type": "code",
   "execution_count": 6,
   "metadata": {},
   "outputs": [
    {
     "name": "stdout",
     "output_type": "stream",
     "text": [
      "Bill Black\n",
      "Mark Smith\n",
      "Sarah Johnes\n"
     ]
    }
   ],
   "source": [
    "import csv\n",
    "\n",
    "FNAME = \"patients.csv\"\n",
    "#FNAME = \"sample.csv\"\n",
    "\n",
    "SELECTED_WARDS = {\"Cardiology\", \"Neurology\"}\n",
    "\n",
    "# protect against file is missing using \"try\":\n",
    "try:\n",
    "    f = open(FNAME)\n",
    "    csv_reader = csv.DictReader(f, skipinitialspace = True)\n",
    "\n",
    "    list_of_patients = list(csv_reader) # we got a list of dict\n",
    "\n",
    "    for patient in list_of_patients:\n",
    "        Hgmm = int(patient[\"Hgmm\"])\n",
    "        ward = patient[\"ward\"]\n",
    "        if Hgmm>680 and ward in SELECTED_WARDS:\n",
    "            print(patient[\"name\"], patient[\"surname\"])\n",
    "except:\n",
    "    print(False)\n",
    "\n"
   ]
  },
  {
   "cell_type": "code",
   "execution_count": null,
   "metadata": {},
   "outputs": [],
   "source": []
  }
 ],
 "metadata": {
  "kernelspec": {
   "display_name": "Python 3",
   "language": "python",
   "name": "python3"
  },
  "language_info": {
   "codemirror_mode": {
    "name": "ipython",
    "version": 3
   },
   "file_extension": ".py",
   "mimetype": "text/x-python",
   "name": "python",
   "nbconvert_exporter": "python",
   "pygments_lexer": "ipython3",
   "version": "3.9.0"
  }
 },
 "nbformat": 4,
 "nbformat_minor": 4
}
