{
 "cells": [
  {
   "cell_type": "markdown",
   "metadata": {},
   "source": [
    "# Lesson 2 - 2020-10-21\n",
    "\n",
    "- statement `if`\n",
    "    * `elif`\n",
    "    * `else`\n"
   ]
  },
  {
   "cell_type": "markdown",
   "metadata": {},
   "source": [
    "### Absolute value\n",
    "Write a program that receives in input a numeric value and computes and outputs its absolute value"
   ]
  },
  {
   "cell_type": "code",
   "execution_count": 3,
   "metadata": {},
   "outputs": [
    {
     "name": "stdout",
     "output_type": "stream",
     "text": [
      "-34.6\n",
      "34.6\n"
     ]
    }
   ],
   "source": [
    "val = input()\n",
    "abs_val = val\n",
    "if abs_val < 0:\n",
    "    abs_val = -abs_val\n",
    "print(abs_val)"
   ]
  },
  {
   "cell_type": "code",
   "execution_count": 4,
   "metadata": {},
   "outputs": [
    {
     "name": "stdout",
     "output_type": "stream",
     "text": [
      "-54\n",
      "54\n"
     ]
    }
   ],
   "source": [
    "val = input()\n",
    "if val < 0:\n",
    "    abs_val = -val\n",
    "else:\n",
    "    abs_val = val\n",
    "print(abs_val)"
   ]
  },
  {
   "cell_type": "markdown",
   "metadata": {},
   "source": [
    "### Trend\n",
    "Write a program that receives in input a numeric value and outputs `/`, `\\` or `-` based on the fact the value is positive, negative or zero"
   ]
  },
  {
   "cell_type": "code",
   "execution_count": 7,
   "metadata": {},
   "outputs": [
    {
     "name": "stdout",
     "output_type": "stream",
     "text": [
      "0\n",
      "-\n"
     ]
    }
   ],
   "source": [
    "POS = '/'\n",
    "NEG = '\\\\'\n",
    "ZERO = '-'\n",
    "\n",
    "val = input()\n",
    "if val > 0:\n",
    "    out = POS\n",
    "else:\n",
    "    if val < 0:\n",
    "        out = NEG\n",
    "    else:\n",
    "        out = ZERO\n",
    "print(out)"
   ]
  },
  {
   "cell_type": "code",
   "execution_count": 8,
   "metadata": {},
   "outputs": [
    {
     "name": "stdout",
     "output_type": "stream",
     "text": [
      "98\n",
      "/\n"
     ]
    }
   ],
   "source": [
    "POS = '/'\n",
    "NEG = '\\\\'\n",
    "ZERO = '-'\n",
    "\n",
    "val = input()\n",
    "if val > 0:\n",
    "    out = POS\n",
    "elif val < 0:\n",
    "    out = NEG\n",
    "else:\n",
    "    out = ZERO\n",
    "print(out)"
   ]
  },
  {
   "cell_type": "markdown",
   "metadata": {},
   "source": [
    "### Even or odd\n",
    "Write a program that receives in input a positive integer value and computes and outputs `True` if it is an even number, `False` otherwise"
   ]
  },
  {
   "cell_type": "code",
   "execution_count": 18,
   "metadata": {},
   "outputs": [
    {
     "name": "stdout",
     "output_type": "stream",
     "text": [
      "64\n",
      "True\n"
     ]
    }
   ],
   "source": [
    "val = input()\n",
    "if val % 2:\n",
    "    iseven = False\n",
    "else:\n",
    "    iseven = True\n",
    "print(iseven)"
   ]
  },
  {
   "cell_type": "markdown",
   "metadata": {},
   "source": [
    "### Leap year\n",
    "Write a program that receives in input a positive integer value referring to a year and computes and outputs `True` if it is a leap year, `False` otherwise"
   ]
  },
  {
   "cell_type": "code",
   "execution_count": 15,
   "metadata": {},
   "outputs": [
    {
     "name": "stdout",
     "output_type": "stream",
     "text": [
      "2100\n",
      "False\n"
     ]
    }
   ],
   "source": [
    "year = input()\n",
    "\n",
    "if (year % 400 == 0) or (year % 4 == 0 and year % 100 != 0):\n",
    "    isleap = True\n",
    "else: \n",
    "    isleap = False\n",
    "print(isleap)"
   ]
  },
  {
   "cell_type": "markdown",
   "metadata": {},
   "source": [
    "### Right triangle\n",
    "Write a program that receives in input three positive integer values (we are sure it is so) and it outputs `True` if it is a right triangle, `False` otherwise"
   ]
  },
  {
   "cell_type": "code",
   "execution_count": 22,
   "metadata": {},
   "outputs": [
    {
     "name": "stdout",
     "output_type": "stream",
     "text": [
      "6\n",
      "5\n",
      "8\n",
      "False\n"
     ]
    }
   ],
   "source": [
    "side1 = input()\n",
    "side2 = input()\n",
    "side3 = input()\n",
    "\n",
    "#long line\n",
    "if side1 * side1 == side2 * side2 + side3 * side3 or \\\n",
    "    side2 * side2 == side1 * side1 + side3 * side3 or \\\n",
    "    side3 * side3 == side2 * side2 + side1 * side1:\n",
    "    isright = True\n",
    "else:\n",
    "    isright = False\n",
    "print(isright)"
   ]
  },
  {
   "cell_type": "markdown",
   "metadata": {},
   "source": [
    "### Einstein's puzzle, revisited\n",
    "Let us assume the user will input a number `abc` where `|a-c| >= 2`, but `abc` is not necessarily greater than `cba`.\n",
    "Modify the program accordingly.\n"
   ]
  },
  {
   "cell_type": "code",
   "execution_count": 23,
   "metadata": {},
   "outputs": [
    {
     "name": "stdout",
     "output_type": "stream",
     "text": [
      "358\n",
      "1089\n"
     ]
    }
   ],
   "source": [
    "BASE = 10\n",
    "FIRSTDIGIT = 10*10\n",
    "\n",
    "abc = input()  #let us assume the user inputs a value fulfilling the constraint on a and c\n",
    "lsd = abc % BASE\n",
    "msd = abc / FIRSTDIGIT\n",
    "middle = (abc - msd * FIRSTDIGIT) / BASE\n",
    "reverse_abc = lsd * FIRSTDIGIT + middle * BASE + msd\n",
    "diff = abc - reverse_abc\n",
    "if diff < 0:\n",
    "    diff = -diff\n",
    "lsd = diff % BASE\n",
    "msd = diff / FIRSTDIGIT\n",
    "middle = (diff - msd * FIRSTDIGIT) / BASE\n",
    "reverse_diff = lsd * FIRSTDIGIT + middle * BASE + msd\n",
    "\n",
    "ris = diff + reverse_diff\n",
    "print(ris)"
   ]
  },
  {
   "cell_type": "code",
   "execution_count": null,
   "metadata": {},
   "outputs": [],
   "source": []
  }
 ],
 "metadata": {
  "kernelspec": {
   "display_name": "Python 2",
   "language": "python",
   "name": "python2"
  },
  "language_info": {
   "codemirror_mode": {
    "name": "ipython",
    "version": 2
   },
   "file_extension": ".py",
   "mimetype": "text/x-python",
   "name": "python",
   "nbconvert_exporter": "python",
   "pygments_lexer": "ipython2",
   "version": "2.7.15"
  }
 },
 "nbformat": 4,
 "nbformat_minor": 2
}
