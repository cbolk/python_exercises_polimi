{
 "cells": [
  {
   "cell_type": "markdown",
   "metadata": {},
   "source": [
    "# Lecture 1 - 2020-10-20\n",
    "\n",
    "- program structure\n",
    "    * input  `input()`\n",
    "    * instructions  \n",
    "    * output `print()`\n",
    "    * comments `#`\n",
    "    * indentation\n",
    "- data types\n",
    "    * integer\n",
    "    * float\n",
    "    * string\n",
    "    * Boolean\n",
    "- operators\n",
    "    * `=`\n",
    "    * `+`, `-`, `*`, `/`, `%`, `//`, `**`  #division between integer\n",
    "    * `==`, `!=`, `>`, `>=`, `<`, `<=`   # != or <>\n",
    "    * `and`, `or`, `not`\n",
    "    * `&`, `|`, `<<`, `>>`, `^`, `~`\n",
    "    * cast: `int()`, `float()` and `str()`\n"
   ]
  },
  {
   "cell_type": "code",
   "execution_count": 26,
   "metadata": {},
   "outputs": [
    {
     "name": "stdout",
     "output_type": "stream",
     "text": [
      "1\n",
      "1.0\n",
      "2\n",
      "125\n"
     ]
    }
   ],
   "source": [
    "a = 5\n",
    "b = 3\n",
    "c = a / b\n",
    "d = float(a) // b\n",
    "e = a % b\n",
    "f = a ** b\n",
    "print(c)\n",
    "print(d)\n",
    "print(e)\n",
    "print(f)"
   ]
  },
  {
   "cell_type": "code",
   "execution_count": 27,
   "metadata": {},
   "outputs": [
    {
     "name": "stdout",
     "output_type": "stream",
     "text": [
      "False\n",
      "True\n",
      "False\n"
     ]
    }
   ],
   "source": [
    "a = True\n",
    "b = False\n",
    "c = a and b\n",
    "d = a or b\n",
    "e = not(a)\n",
    "print(c)\n",
    "print(d)\n",
    "print(e)\n"
   ]
  },
  {
   "cell_type": "code",
   "execution_count": 29,
   "metadata": {},
   "outputs": [
    {
     "name": "stdout",
     "output_type": "stream",
     "text": [
      "1\n",
      "7\n",
      "10\n"
     ]
    }
   ],
   "source": [
    "a = 5\n",
    "b = 3\n",
    "c = a & b\n",
    "d = a | b\n",
    "e = a << 1\n",
    "print(c)\n",
    "print(d)\n",
    "print(e)\n"
   ]
  },
  {
   "cell_type": "markdown",
   "metadata": {},
   "source": [
    "### Division between integers\n",
    "Get two integers in input and output both the result of the division operator and the result as a floating point value"
   ]
  },
  {
   "cell_type": "code",
   "execution_count": 9,
   "metadata": {},
   "outputs": [
    {
     "name": "stdout",
     "output_type": "stream",
     "text": [
      "5\n",
      "2\n",
      "5/2=2?=2.5\n"
     ]
    }
   ],
   "source": [
    "val = input()\n",
    "div = input()\n",
    "ris = val / div\n",
    "risf = float(val) / div\n",
    "print(str(val) + \"/\" + str(div) + \"=\" + str(ris) + \"?=\" + str(risf))"
   ]
  },
  {
   "cell_type": "code",
   "execution_count": 10,
   "metadata": {},
   "outputs": [
    {
     "name": "stdout",
     "output_type": "stream",
     "text": [
      "5\n",
      "2\n",
      "5.0/2=2.5?=2.5\n"
     ]
    }
   ],
   "source": [
    "val = float(input())\n",
    "div = input()\n",
    "ris = val / div\n",
    "risf = val / div\n",
    "print(str(val) + \"/\" + str(div) + \"=\" + str(ris) + \"?=\" + str(risf))"
   ]
  },
  {
   "cell_type": "markdown",
   "metadata": {},
   "source": [
    "### Division between two integers, one negative\n",
    "What is the expected result of \n",
    "\n",
    "-6/4\n",
    "\n",
    "is it the same as \n",
    "\n",
    "-(6/4)\n"
   ]
  },
  {
   "cell_type": "code",
   "execution_count": 12,
   "metadata": {},
   "outputs": [
    {
     "data": {
      "text/plain": [
       "-2"
      ]
     },
     "execution_count": 12,
     "metadata": {},
     "output_type": "execute_result"
    }
   ],
   "source": [
    "-6/4"
   ]
  },
  {
   "cell_type": "code",
   "execution_count": 13,
   "metadata": {},
   "outputs": [
    {
     "data": {
      "text/plain": [
       "-1"
      ]
     },
     "execution_count": 13,
     "metadata": {},
     "output_type": "execute_result"
    }
   ],
   "source": [
    "-(6/4)"
   ]
  },
  {
   "cell_type": "markdown",
   "metadata": {},
   "source": [
    "## De Morgan\n",
    "\n",
    "`not(cond1 and cond2) === not cond1 or not cond2`\n",
    "\n",
    "`not(cond1 or cond2) === not cond1 and not cond2`"
   ]
  },
  {
   "cell_type": "markdown",
   "metadata": {},
   "source": [
    "### Einstein's puzzle\n",
    "It is said that Albert Einstein used to take great delight in baffling friends with the puzzle below.\n",
    "\n",
    "First, write the number 1089 on a piece of paper, fold it, and hand it to a friend for safekeeping. \n",
    "What you wrote down is not to be read until you have completed your amazing mental feat.\n",
    "\n",
    "Next, ask your friend to write down any three-digit number *ABC*, emphasizing that the first and last digits must differ by at least two (*A* >= *C* + 2).   \n",
    "Close your eyes or turn your back while this is being done.   \n",
    "Better still, have someone blindfold you.\n",
    "\n",
    "After your friend has written down the three-digit number, ask him to reverse it, then subtract the smaller from the larger.\n",
    "Example: 654 - 456 = 198.\n",
    "\n",
    "Once this is done, tell your friend to reverse the new number.\n",
    "Example: 198 becomes 891.\n",
    "\n",
    "Next ask your friend to add the new number and its reverse together.\n",
    "Example: 198 + 891 = 1089.\n",
    "\n",
    "If all goes as planned, your friend will be amazed.   "
   ]
  },
  {
   "cell_type": "code",
   "execution_count": 22,
   "metadata": {},
   "outputs": [
    {
     "name": "stdout",
     "output_type": "stream",
     "text": [
      "853\n",
      "1089\n"
     ]
    }
   ],
   "source": [
    "BASE = 10\n",
    "FIRSTDIGIT = 10*10\n",
    "\n",
    "abc = input()  #let us assume the user inputs a value fulfilling the constraint on a and c\n",
    "lsd = abc % BASE\n",
    "msd = abc / FIRSTDIGIT\n",
    "middle = (abc - msd * FIRSTDIGIT) / BASE\n",
    "reverse_abc = lsd * FIRSTDIGIT + middle * BASE + msd\n",
    "diff = abc - reverse_abc\n",
    "lsd = diff % BASE\n",
    "msd = diff / FIRSTDIGIT\n",
    "middle = (diff - msd * FIRSTDIGIT) / BASE\n",
    "reverse_diff = lsd * FIRSTDIGIT + middle * BASE + msd\n",
    "ris = diff + reverse_diff\n",
    "print(ris)"
   ]
  },
  {
   "cell_type": "markdown",
   "metadata": {},
   "source": [
    "### Time in seconds\n",
    "Write a program that receives in input a strictly positive integer that represents an amount of time expressed in seconds and computes and shows the same amount of time in hours, minutes and seconds. \n",
    "\n",
    "For instance, if the user inputs value \n",
    "\n",
    "`253` \n",
    "\n",
    "the program computes and shows \n",
    "\n",
    "`253s = 0h 4m 13s`"
   ]
  },
  {
   "cell_type": "code",
   "execution_count": 2,
   "metadata": {},
   "outputs": [
    {
     "name": "stdout",
     "output_type": "stream",
     "text": [
      "253\n",
      "253s = 0h 4m 13s\n",
      "\n"
     ]
    }
   ],
   "source": [
    "SEC_IN_MIN = 60\n",
    "MIN_IN_HOUR = 60\n",
    "\n",
    "time = input()\n",
    "remainingtime = time\n",
    "hours = time / (MIN_IN_HOUR * SEC_IN_MIN)\n",
    "remainingtime = time % (MIN_IN_HOUR * SEC_IN_MIN)\n",
    "minutes = remainingtime / SEC_IN_MIN\n",
    "seconds = remainingtime % SEC_IN_MIN\n",
    "\n",
    "print(str(time) + \"s = \" + str(hours) + \"h \" + str(minutes) + \"m \" + str(seconds) + \"s\\n\")"
   ]
  },
  {
   "cell_type": "code",
   "execution_count": 3,
   "metadata": {},
   "outputs": [
    {
     "name": "stdout",
     "output_type": "stream",
     "text": [
      "253\n",
      "253s = 0h 4m 13s\n",
      "\n"
     ]
    }
   ],
   "source": [
    "SEC_IN_MIN = 60\n",
    "MIN_IN_HOUR = 60\n",
    "\n",
    "time = input()\n",
    "hours = time / (MIN_IN_HOUR * SEC_IN_MIN)\n",
    "minutes = (time % (MIN_IN_HOUR * SEC_IN_MIN)) / SEC_IN_MIN\n",
    "seconds = (time % (MIN_IN_HOUR * SEC_IN_MIN)) % SEC_IN_MIN\n",
    "print(str(time) + \"s = \" + str(hours) + \"h \" + str(minutes) + \"m \" + str(seconds) + \"s\\n\")"
   ]
  },
  {
   "cell_type": "code",
   "execution_count": null,
   "metadata": {},
   "outputs": [],
   "source": []
  }
 ],
 "metadata": {
  "kernelspec": {
   "display_name": "Python 3",
   "language": "python",
   "name": "python3"
  },
  "language_info": {
   "codemirror_mode": {
    "name": "ipython",
    "version": 3
   },
   "file_extension": ".py",
   "mimetype": "text/x-python",
   "name": "python",
   "nbconvert_exporter": "python",
   "pygments_lexer": "ipython3",
   "version": "3.8.5"
  }
 },
 "nbformat": 4,
 "nbformat_minor": 2
}
