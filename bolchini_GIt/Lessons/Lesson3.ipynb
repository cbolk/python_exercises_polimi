{
 "cells": [
  {
   "cell_type": "markdown",
   "metadata": {},
   "source": [
    "# Lesson 3 - 2020-10-27\n",
    "\n",
    "- statement `while`"
   ]
  },
  {
   "cell_type": "markdown",
   "metadata": {},
   "source": [
    "### Number of digits\n",
    "Write a program that receives in input a positive integer value and outputs the number of digits it consists of."
   ]
  },
  {
   "cell_type": "code",
   "execution_count": 4,
   "metadata": {},
   "outputs": [
    {
     "name": "stdout",
     "output_type": "stream",
     "text": [
      "123456789987\n",
      "12\n"
     ]
    }
   ],
   "source": [
    "BASE = 10\n",
    "\n",
    "val = input()\n",
    "\n",
    "ndigits = 0\n",
    "while val > 0:\n",
    "    ndigits = ndigits + 1\n",
    "    val = val / BASE\n",
    "\n",
    "print(ndigits)"
   ]
  },
  {
   "cell_type": "markdown",
   "metadata": {},
   "source": [
    "### Number of digits for a real number\n",
    "Write a program that receives in input a positive real value and outputs the number of digits it consists of."
   ]
  },
  {
   "cell_type": "code",
   "execution_count": 8,
   "metadata": {},
   "outputs": [
    {
     "name": "stdout",
     "output_type": "stream",
     "text": [
      "584.33\n",
      "3\n",
      "3.3 3\n",
      "33.0 33\n",
      "330.0 330\n",
      "3300.0 3300\n",
      "33000.0 33000\n",
      "330000.0 330000\n",
      "3300000.0 3300000\n",
      "33000000.0 33000000\n",
      "330000000.0 330000000\n",
      "3300000000.0 3300000000\n",
      "33000000000.0 33000000000\n",
      "3.3e+11 330000000000\n",
      "3.3e+12 3300000000000\n",
      "3.3e+13 33000000000004\n",
      "3.3e+14 330000000000040\n",
      "3.3e+15 3300000000000409\n",
      "3.3e+16 33000000000004096\n",
      "20\n"
     ]
    }
   ],
   "source": [
    "BASE = 10\n",
    "\n",
    "val = input()\n",
    "\n",
    "integer = int(val)\n",
    "real = val - integer\n",
    "ndigits = 0\n",
    "while integer > 0:\n",
    "    ndigits = ndigits + 1\n",
    "    integer = integer / BASE\n",
    "print(ndigits)\n",
    "\n",
    "diff = real - int(real)\n",
    "while diff > 0:\n",
    "    ndigits = ndigits + 1\n",
    "    real = real * BASE\n",
    "    print (str(real) + \" \" + str(int(real)))\n",
    "    diff = real - int(real)\n",
    "print(ndigits)\n"
   ]
  },
  {
   "cell_type": "code",
   "execution_count": null,
   "metadata": {},
   "outputs": [],
   "source": []
  }
 ],
 "metadata": {
  "kernelspec": {
   "display_name": "Python 2",
   "language": "python",
   "name": "python2"
  },
  "language_info": {
   "codemirror_mode": {
    "name": "ipython",
    "version": 2
   },
   "file_extension": ".py",
   "mimetype": "text/x-python",
   "name": "python",
   "nbconvert_exporter": "python",
   "pygments_lexer": "ipython2",
   "version": "2.7.15"
  }
 },
 "nbformat": 4,
 "nbformat_minor": 2
}
