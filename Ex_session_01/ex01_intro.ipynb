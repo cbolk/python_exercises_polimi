{
 "cells": [
  {
   "cell_type": "markdown",
   "metadata": {},
   "source": [
    "<img src=\"polimi_logo.png\" style=\"width: 200px;\"/>\n",
    "\n",
    "\n",
    "\n",
    "# <center>Intro</center>\n",
    "\n",
    "# <center>Computer Science 2020-21</center>\n",
    "\n",
    "# <center>Exercises</center>\n",
    "\n",
    "\n",
    "### Teaching Assistant: ing. Gian Enrico Conti\n",
    "\n",
    "### refs:\n",
    "mail:       gianenrico.conti@polimi.it\n",
    "    \n",
    "webex:      https://politecnicomilano.webex.com/meet/gianenrico.conti\n",
    "\n",
    "iMessage:   ingconti@icloud.com\n",
    "\n",
    "(Feel free to write or contact on MS Teams..)\n",
    "\n"
   ]
  },
  {
   "cell_type": "markdown",
   "metadata": {},
   "source": [
    "***\n",
    "\n",
    "# <center>Python features</center>\n",
    "\n",
    "\n",
    "- compact / modern syntax\n",
    "- highly available\n",
    "- far far easier than \"C\" (\"C/C++\" if speed is absolute premium)\n",
    "- a lot of pre-built libs\n",
    "- can be used to built server solutions\n",
    "\n",
    "\n"
   ]
  },
  {
   "cell_type": "markdown",
   "metadata": {},
   "source": [
    "***\n",
    "\n",
    "# <center>Why Python on engineering / medical/ production</center>\n",
    "\n",
    "\n",
    "# But also for stats calculations:\n",
    "\n",
    "https://www.ingconti.com/elezioni/risultati_comunali.html\n",
    "\n",
    "\n",
    "<img src=\"elezioni_ve.png\" style=\"width: 300px;\"/>\n",
    "\n",
    "\n",
    "##Python output...\n",
    "\n",
    "pos,descr_lista,img_lis,voti,perc,seggi,sort_lis,nome_completo,voti_cand,tot_voti_list_cand,sg_ass_cand,sg_sort_coal_cand,perc_cand,perc_cand_list\n",
    "10,LUIGI BRUGNARO SINDACO,8-20200920000000-10-0870420.png,37914,31.67,14,,BRUGNARO LUIGI,66750,64978,22,,54.14,54.29\n",
    "9,LEGA SALVINI,8-20200920000000-9-0870420.png,14806,12.37,5,,BRUGNARO LUIGI,66750,64978,22,,54.14,54.29\n",
    "7,FRATELLI D'ITALIA,8-20200920000000-7-0870420.png,7855,6.56,2,,BRUGNARO LUIGI,66750,64978,22,,54.14,54.29\n",
    "8,FORZA ITALIA,8-20200920000000-8-0870420.png,3255,2.72,1,,BRUGNARO LUIGI,66750,64978,22,,54.14,54.29\n",
    "11,LISTA CIVICA LE CITTÃ€,8-20200920000000-11-0870420.png,1148,0.96,0,,BRUGNARO LUIGI,66750,64978,22,,54.14,54.29\n",
    "17,PARTITO DEMOCRATICO,8-20200920000000-17-0870420.png,22962,19.18,7,,BARETTA PIER PAOLO,36092,34918,9,,29.27,29.17\n",
    "13,VERDE PROGRESSISTA,8-20200920000000-13-0870420.png,5907,4.93,1,,BARETTA PIER PAOLO,36092,34918,9,,29.27,29.17\n",
    "15,ITALIA VIVA-PARTITO SOCIALISTA ITALIANO-CIVICA,8-20200920000000-15-0870420.png,4308,3.60,1,,BARETTA PIER PAOLO,36092,34918,9,,29.27,29.17\n",
    "14,ITALIA IN COMUNE-VOLT,8-20200920000000-14-0870420.png,952,0.80,0,,BARETTA PIER PAOLO,36092,34918,9,,29.27,29.17\n",
    "16,IDEA COMUNE,8-20200920000000-16-0870420.png,789,0.66,0,,BARETTA PIER PAOLO,36092,34918,9,,29.27,29.17\n",
    "6,TERRA E ACQUA  2020,8-20200920000000-6-0870420.png,4847,4.05,0,,GASPARINETTI MARCO,5005,4847,0,,4.06,4.05\n",
    "12,MOVIMENTO 5 STELLE,8-20200920000000-12-0870420.png,4716,3.94,0,,VISMAN SARA,4822,4716,0,,3.91,3.94\n",
    "1,PARTITO DEI VENETI,8-20200920000000-1-0870420.png,4228,3.53,0,,ZECCHI STEFANO,4344,4228,0,,3.52,3.53\n",
    "4,TUTTA LA CITTÃ€ INSIEME!,8-20200920000000-4-0870420.png,3021,2.52,0,,MARTINI GIOVANNI,4305,4104,0,,3.49,3.43\n",
    "3,PER MESTRE E VENEZIA,8-20200920000000-3-0870420.png,1083,0.90,0,,MARTINI GIOVANNI,4305,4104,0,,3.49,3.43\n",
    "2,PARTITO COMUNISTA DEI LAVORATORI,8-20200920000000-2-0870420.png,783,0.65,0,,BUSETTO ALESSANDRO,807,783,0,,0.65,0.65\n",
    "5,CIVICA SITRAN,8-20200920000000-5-0870420.png,553,0.46,0,,SITRAN MARCO,605,553,0,,0.49,0.46\n",
    "18,ITALIA GIOVANE SOLIDALE-VOX ITALIA-PARTITO VALORE UMANO,8-20200920000000-18-0870420.png,570,0.48,0,,CALLEGARI MAURIZIO,570,570,0,,0.46,0.48\n",
    "\n"
   ]
  },
  {
   "cell_type": "markdown",
   "metadata": {},
   "source": [
    "***\n",
    "\n",
    "# HW, too\n",
    "\n",
    "I did use python on HW card: ESP32\n",
    "\n",
    "  .....\n",
    "- run toolchain via Python script:\n",
    "    \n",
    " <font color='green'>idf.py build</font>           \n",
    "\n",
    "- flash it down:\n",
    "\n",
    " <font color='green'>idf.py -p /dev/cu.usbserial-1422201 flash </font>           \n",
    "\n",
    "\n",
    "<img src=\"ESP32.png\" style=\"width: 200px;\"/>\n",
    "\n",
    "\n"
   ]
  },
  {
   "cell_type": "markdown",
   "metadata": {},
   "source": [
    "***\n",
    "\n",
    "# <center>exercise sessions workflow:</center>\n",
    "\n",
    "\n",
    "- ### Some intro\n",
    "- ### Exercises are presented\n",
    "- ### Some time (i.e. some minutes) is left to you ",
    "   to solve /write solutions\n",
    "- ### Solution is proposed\n",
    "\n"
   ]
  },
  {
   "cell_type": "markdown",
   "metadata": {},
   "source": [
    "***\n",
    "\n",
    "# <center>exercise sessions workflow (2):</center>\n",
    "\n",
    "\n",
    "## Tools\n",
    "\n",
    "- terminal (macOs, Linux) <img src=\"terminal.png\" style=\"width: 200px;\"/>\n",
    "\n",
    "\n",
    "- IDLE (everywhere) <img src=\"IDLE.png\" style=\"width: 200px;\"/>\n",
    "\n",
    "\n",
    "## choose whatever You like\n"
   ]
  },
  {
   "cell_type": "markdown",
   "metadata": {},
   "source": [
    "***\n",
    "\n",
    "# <center>exercise sessions workflow (3):</center>\n",
    "\n",
    "\n",
    "## Tools && Docs\n",
    "\n",
    "Keep ready:\n",
    "\n",
    "https://bolchini.faculty.polimi.it/docs/datatypes.py.pdf\n",
    "\n",
    "https://bolchini.faculty.polimi.it/classes/cs/pythononwindows.htm\n",
    "https://bolchini.faculty.polimi.it/classes/cs/pythononmacos.htm\n",
    "https://bolchini.faculty.polimi.it/classes/cs/terminal.htm\n",
    "    "
   ]
  },
  {
   "cell_type": "markdown",
   "metadata": {},
   "source": [
    "***\n",
    "\n",
    "# <center>How to use editor/IDLE/shell:</center>\n",
    "\n",
    "#IDLE\n",
    "New script:\n",
    "\n",
    "File - New   <img src=\"file_new.png\" style=\"width: 200px;\"/>\n",
    "\n",
    "\n",
    "Existing: \n",
    "Open:         <img src=\"file_open.png\" style=\"width: 200px;\"/>\n",
    "(Choose right file...)\n",
    "\n",
    "(for example:)\n",
    "\n",
    "<img src=\"fake_code.png\" style=\"width: 200px;\"/>\n",
    "\n",
    "\n",
    "# F5 will run in IDLE.."
   ]
  },
  {
   "cell_type": "markdown",
   "metadata": {},
   "source": [
    "\n",
    "## if You try:\n",
    "\n",
    "\n",
    " a=0\n",
    "    \n",
    " while(a<10):\n",
    "    \n",
    "    print(a)\n",
    "\n",
    "\n",
    "\n",
    "    \n",
    "...\n",
    "\n",
    "***\n",
    "================== RESTART: /Users/ingconti/Documents/test.py ==================\n",
    "0<br>\n",
    "0<br>\n",
    "0<br>\n",
    "0<br>\n",
    "0<br>\n",
    "0<br>\n",
    "0<br>\n",
    "0<br>\n",
    "0<br>\n",
    "....\n",
    "\n",
    "\n",
    "\n",
    "# OPPS... how to stop??\n"
   ]
  },
  {
   "cell_type": "markdown",
   "metadata": {},
   "source": [
    "***\n",
    "\n",
    "# Ctl C will stop\n",
    "\n",
    "\n",
    "\n",
    "\n",
    "\n",
    "\n",
    "## (Mac users, too: do  CTL c, not cmd C)\n"
   ]
  },
  {
   "cell_type": "markdown",
   "metadata": {},
   "source": [
    "***\n",
    "# How to use shell (1)\n",
    "\n",
    "1. fire up shell \n",
    "   (cmd-shift U for macOs, and open \"Terminal\")\n",
    "\n",
    "2. goto wanted folder (cd.. ... )\n",
    "\n",
    "3. use edit you like: nano, vi etc.. (nano example1.py)\n",
    "Or go graphical: Sublime, BBedit..\n",
    "\n",
    "3. save\n",
    "\n",
    "4. in shell:  <font color='green'> python example1.py </font>           \n"
   ]
  },
  {
   "cell_type": "code",
   "execution_count": null,
   "metadata": {},
   "outputs": [],
   "source": [
    "***\n",
    "# How to use shell (2)\n",
    "\n",
    "\n",
    "## Use:\n",
    "- TAB\n",
    "- autocompletion\n",
    "- last cmd (Up arrow)\n",
    "- \"~\" for home\n",
    "- organize in folders\n",
    "- usual cmds: <font color='green'> cp mkdir mv rm ..... </font>  \n",
    "\n"
   ]
  },
  {
   "cell_type": "code",
   "execution_count": null,
   "metadata": {},
   "outputs": [],
   "source": [
    "***\n",
    "\n",
    "# Ex1 warm up: types, conversion and cast\n",
    "\n",
    "\n",
    "## Before running the following code, try to determine the following value of x\n",
    "\n",
    "### (use shell, or even IDLE Shell)\n",
    "\n",
    "\n",
    "(file ex1_warmup.py)\n"
   ]
  },
  {
   "cell_type": "code",
   "execution_count": 12,
   "metadata": {},
   "outputs": [
    {
     "name": "stdout",
     "output_type": "stream",
     "text": [
      "3.3333333333333335\n"
     ]
    }
   ],
   "source": [
    "\n",
    "a=3\n",
    "b=10.0\n",
    "x=b/a\n",
    "\n",
    "print(x)\n"
   ]
  },
  {
   "cell_type": "code",
   "execution_count": null,
   "metadata": {},
   "outputs": [],
   "source": [
    "***\n",
    "\n",
    "# Ex2 warm up: Types, conversion and cast  + IF\n",
    "\n",
    "   \n",
    "## Before running the following code, try to determine the following value of x\n"
   ]
  },
  {
   "cell_type": "code",
   "execution_count": 14,
   "metadata": {},
   "outputs": [
    {
     "name": "stdout",
     "output_type": "stream",
     "text": [
      "1. are equal\n",
      "2. are equal\n",
      "3. equal\n"
     ]
    }
   ],
   "source": [
    "a=9\n",
    "b=a/(float(3))\n",
    "if b==3:\n",
    "   print(\"1. are equal\")\n",
    "else:\n",
    "    print(\"1. not equal\")\n",
    "\n",
    "if b==3.0:\n",
    "   print(\"2. are equal\")\n",
    "else:\n",
    "    print(\"2. not equal\")\n",
    "\n",
    "if b==int(b):\n",
    "    print(\"3. equal\")\n"
   ]
  },
  {
   "cell_type": "markdown",
   "metadata": {},
   "source": [
    "***\n",
    "# Key Points to Remember\n",
    "\n",
    "### 1. Type Conversion is the conversion of object from one data type to another data type. ",
    "\n",
    "### 2. Implicit Type Conversion is automatically performed by the Python interpreter. ",
    "\n",
    "### 3. Python avoids the loss of data in Implicit Type Conversion. ",
    "\n",
    "### 4. Explicit Type Conversion is also called Type Casting, the data types of objects are converted using predefined functions by the user. ",
    "\n",
    "### 5. In Type Casting, loss of data may occur as we enforce the object to a specific data type.\n"
   ]
  },
  {
   "cell_type": "markdown",
   "metadata": {},
   "source": [
    "***\n",
    "\n",
    "# Ex3 A:\n",
    "\n",
    "in computers, letters are represented as numbers (ASCII code). Python has ord() bultin function:\n",
    "for example: ord('A') -> 65, ord('B') -> 66, ord('a') -> 92, ord ('3') -> 51  and so on..\n",
    "\n",
    "Write a code that prints Ascii code of a char read in input, but only if is a capital Letter.\n",
    "\n",
    "\n",
    "# Ex3 B:\n",
    "\n",
    "The dual function of ord() is char().\n",
    "\n",
    "Write a code that reads a char in input and converts it to UPPERCASE\n"
   ]
  },
  {
   "cell_type": "code",
   "execution_count": 1,
   "metadata": {},
   "outputs": [
    {
     "name": "stdout",
     "output_type": "stream",
     "text": [
      "part A: gimme a char:\n",
      "q\n",
      "NOT capital letter\n",
      "part B: gimme a char:\n",
      "H\n"
     ]
    }
   ],
   "source": [
    "print(\"part A - gimme a char:\")\n",
    "ch = input()\n",
    "if ch>='A' and ch<='Z':\n",
    "    ascii = ord(ch)\n",
    "    print(ascii)\n",
    "else:\n",
    "    print(\"NOT capital letter\")\n",
    "\n",
    "print(\"part B - gimme a char:\")\n",
    "ch = input()\n",
    "\n",
    "if ch>='a' and ch<='z':\n",
    "    ascii = ord(ch)\n",
    "    delta = ord('a') - ord('A')\n",
    "    asciiUpperCase = ascii - delta\n",
    "    print(chr(asciiUpperCase))\n"
   ]
  },
  {
   "cell_type": "code",
   "execution_count": null,
   "metadata": {},
   "outputs": [],
   "source": [
    "***\n",
    "\n",
    "# Ex4:\n",
    "\n",
    "## Write a code that reads a number N  in input print all its predecessors 'til 0 if they are even.\n"
   ]
  },
  {
   "cell_type": "code",
   "execution_count": 2,
   "metadata": {},
   "outputs": [
    {
     "name": "stdout",
     "output_type": "stream",
     "text": [
      "N:\n",
      "11\n",
      ".....\n",
      "10\n",
      "8\n",
      "6\n",
      "4\n",
      "2\n",
      "0\n",
      "done-\n"
     ]
    }
   ],
   "source": [
    "print(\"N:\")\n",
    "N = int(input())\n",
    "\n",
    "print(\".....\")\n",
    "while N>=0:\n",
    "    N-=1 # skip N itself, as per text and use it to decrement in loop, too\n",
    "    remainder = N % 2\n",
    "    if remainder == 0:\n",
    "        print(N)\n",
    "    \n",
    "print(\"done-\")\n"
   ]
  },
  {
   "cell_type": "markdown",
   "metadata": {},
   "source": [
    "## NOTE:\n",
    "\n",
    "If You write N = input()\n",
    "You will get an error in IDLE, but works on console..."
   ]
  },
  {
   "cell_type": "code",
   "execution_count": null,
   "metadata": {},
   "outputs": [],
   "source": [
    "***\n",
    "\n",
    "# Ex5:\n",
    "\n",
    "Write a code that reads 10 positive numbers in input and prints the maximum found.\n",
    "\n",
    "### DO NOT  use array or similar...\n",
    "\n",
    "\n"
   ]
  },
  {
   "cell_type": "code",
   "execution_count": null,
   "metadata": {},
   "outputs": [],
   "source": [
    "\n",
    "iterations=10\n",
    "MAX=0\n",
    "happenHere = 0\n",
    "while iterations>0:\n",
    "    print(\"N: \")\n",
    "    N = int(input())\n",
    "    if N>MAX:\n",
    "        MAX = N\n",
    "        happenHere = iterations\n",
    "    iterations-=1\n",
    "    \n",
    "    \n",
    "print(\"max is: \", MAX, \" iteration: \", happenHere)\n"
   ]
  },
  {
   "cell_type": "markdown",
   "metadata": {},
   "source": [
    "***\n",
    "\n",
    "# Ex6:\n",
    "\n",
    "Write a code that reads a positive number N in input and prints factorial\n",
    "\n",
    "( https://en.wikipedia.org/wiki/Factorial )\n",
    "\n"
   ]
  },
  {
   "cell_type": "code",
   "execution_count": 3,
   "metadata": {},
   "outputs": [
    {
     "name": "stdout",
     "output_type": "stream",
     "text": [
      "N:\n",
      "12\n",
      "fact:  479001600\n"
     ]
    }
   ],
   "source": [
    "print(\"N:\")\n",
    "N = int(input())\n",
    "\n",
    "fact = 1\n",
    "while N>1:\n",
    "    fact*=N\n",
    "    N-=1\n",
    "        \n",
    "    \n",
    "print(\"fact: \", fact)\n"
   ]
  },
  {
   "cell_type": "markdown",
   "metadata": {},
   "source": [
    "***\n",
    "\n",
    "## Ex7\n",
    "\n",
    "Write a code that reads TWO positive numbers N, M in input and prints all their common dividers.\n",
    "If NO dividers,(N =7, M = 3) print \"NO common dividers\"\n",
    "\n",
    "Example:\n",
    "N = 120\n",
    "M = 30\n",
    "\n",
    "Will output: 2 3 4 5 6 10 12 15 20 30 0\n",
    "    "
   ]
  },
  {
   "cell_type": "code",
   "execution_count": 4,
   "metadata": {},
   "outputs": [
    {
     "name": "stdout",
     "output_type": "stream",
     "text": [
      "N:\n",
      "44\n",
      "M:\n",
      "12\n",
      "2\n",
      "4\n"
     ]
    }
   ],
   "source": [
    "print(\"N:\")\n",
    "N = int(input())\n",
    "\n",
    "print(\"M:\")\n",
    "M = int(input())\n",
    "\n",
    "count = 0\n",
    "# stop at lower,so optimize loop:\n",
    "if M>N:\n",
    "    limit = N\n",
    "else:\n",
    "    limit = M\n",
    "\n",
    "i = 2\n",
    "while i<limit:\n",
    "    if N % i == 0 and M  % i == 0 : \n",
    "        print(i)\n",
    "        count+=1\n",
    "    i+=1\n",
    "        \n",
    "if count==0 : \n",
    "    print(\"NO common dividers\")\n",
    "\n"
   ]
  },
  {
   "cell_type": "markdown",
   "metadata": {},
   "source": [
    "# Ex8\n",
    "\n",
    "In Italy during diving contest, points are assigned as follows:\n",
    "\n",
    "5 competition judges assign a score each. (from 0 to 10)\n",
    "Final score is the double of the sum of scores remiving higher and lower score.\n",
    "Write a script that reads 5 scores and prints final score.\n",
    "\n",
    " Exeample:\n",
    "0\t8.0, 7.5, 7.5, 7.5, 7.0 = 22.5 x 2.0 = 45.0\n",
    "\n",
    "\t(http://www.federnuoto.it/pdf/t_reg_tec_09-13.pdf)\n",
    "\n"
   ]
  },
  {
   "cell_type": "code",
   "execution_count": null,
   "metadata": {},
   "outputs": [],
   "source": [
    "count = 5\n",
    "max = 0\n",
    "min = 10\n",
    "sum = 0\n",
    "i = 0\n",
    "\n",
    "while i<count:\n",
    "    print(\"Judge \", i+1, \" vote: \")\n",
    "    vote = float(input())\n",
    "    sum+=vote\n",
    "    if vote > max:\n",
    "        max = vote\n",
    "    if vote<min:\n",
    "        min = vote\n",
    "    i+=1\n",
    "\n",
    "print(\"sum:\", sum, \" max: \", max, \" min: \" ,min)\n",
    "\n",
    "tot = (sum - max - min) * 2\n",
    "print(\"total score:\", tot)\n"
   ]
  },
  {
   "cell_type": "markdown",
   "metadata": {},
   "source": [
    "# Ex9\n",
    "\n",
    "Write a code that reads TWO positive numbers N, M in input and find if they generate a Pythagorean triplet printing also the other number (hypotenuse if we see them as a triangle)\n",
    "\n",
    "Assume numbers lower than 30.\n",
    "\n",
    "## DO NOT use sqrt() or similar\n",
    "\n"
   ]
  },
  {
   "cell_type": "code",
   "execution_count": 8,
   "metadata": {},
   "outputs": [
    {
     "name": "stdout",
     "output_type": "stream",
     "text": [
      "N:\n",
      "6\n",
      "M:\n",
      "8\n",
      "8 6 100\n"
     ]
    }
   ],
   "source": [
    "print(\"N:\")\n",
    "N = int(input())\n",
    "\n",
    "print(\"M:\")\n",
    "M = int(input())\n",
    "\n",
    "count = 0\n",
    "\n",
    "i = 2\n",
    "limit = 30\n",
    "while i<limit*limit:\n",
    "    if N*N + M *M == i : \n",
    "        print(M, N , i)\n",
    "    i+=1\n",
    "        \n"
   ]
  },
  {
   "cell_type": "markdown",
   "metadata": {},
   "source": [
    "# Ex10\n",
    "\n",
    "Write a code generates all Pythagorean triplets for numbers under 30.\n"
   ]
  },
  {
   "cell_type": "code",
   "execution_count": 9,
   "metadata": {},
   "outputs": [
    {
     "name": "stdout",
     "output_type": "stream",
     "text": [
      "3 4 5\n",
      "4 3 5\n",
      "5 12 13\n",
      "6 8 10\n",
      "7 24 25\n",
      "8 6 10\n",
      "8 15 17\n",
      "9 12 15\n",
      "10 24 26\n",
      "12 5 13\n",
      "12 9 15\n",
      "12 16 20\n",
      "15 8 17\n",
      "15 20 25\n",
      "16 12 20\n",
      "18 24 30\n",
      "20 15 25\n",
      "20 21 29\n",
      "21 20 29\n",
      "21 28 35\n",
      "24 7 25\n",
      "24 10 26\n",
      "24 18 30\n",
      "28 21 35\n"
     ]
    }
   ],
   "source": [
    "N = 3\n",
    "M = 3\n",
    "limit = 30\n",
    "i =0\n",
    "\n",
    "while M<limit:\n",
    "    N = 3\n",
    "    while N<limit:\n",
    "        i = 3\n",
    "        while i<limit*limit:\n",
    "            if N*N + M*M == i*i and N != M: \n",
    "                print(M, N , i)\n",
    "            i+=1\n",
    "        N+=1\n",
    "    M+=1\n"
   ]
  },
  {
   "cell_type": "code",
   "execution_count": null,
   "metadata": {},
   "outputs": [],
   "source": []
  }
 ],
 "metadata": {
  "kernelspec": {
   "display_name": "Python 3",
   "language": "python",
   "name": "python3"
  },
  "language_info": {
   "codemirror_mode": {
    "name": "ipython",
    "version": 3
   },
   "file_extension": ".py",
   "mimetype": "text/x-python",
   "name": "python",
   "nbconvert_exporter": "python",
   "pygments_lexer": "ipython3",
   "version": "3.8.5"
  }
 },
 "nbformat": 4,
 "nbformat_minor": 4
}
