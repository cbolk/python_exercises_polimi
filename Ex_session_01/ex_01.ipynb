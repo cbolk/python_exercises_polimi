{
 "cells": [
  {
   "cell_type": "markdown",
   "metadata": {},
   "source": [
    "<img src=\"polimi_logo.png\" style=\"width: 200px;\"/>\n",
    "\n",
    "\n",
    "\n",
    "# <center>Intro</center>\n",
    "\n",
    "# <center>Computer Science 2020-21</center>\n",
    "\n",
    "# <center>Exercises</center>\n",
    "\n",
    "\n",
    "### Teaching Assistant: ing. Gian Enrico Conti\n",
    "\n",
    "### refs:\n",
    "mail:       gianenrico.conti@polimi.it\n",
    "    \n",
    "webex:      https://politecnicomilano.webex.com/meet/gianenrico.conti\n",
    "\n",
    "iMessage:   ingconti@icloud.com\n",
    "\n",
    "(Feel free to write or contact on MS Teams..)\n",
    "\n"
   ]
  },
  {
   "cell_type": "markdown",
   "metadata": {},
   "source": [
    "***\n",
    "\n",
    "# Ex1:\n",
    "\n",
    "## \n",
    "Write a program that receives in input a positive integer value and outputs all its predecessors down to 0 if they are even:"
   ]
  },
  {
   "cell_type": "code",
   "execution_count": 12,
   "metadata": {},
   "outputs": [
    {
     "name": "stdout",
     "output_type": "stream",
     "text": [
      "insert N:\n",
      "10\n",
      "8\n",
      "6\n",
      "4\n",
      "2\n",
      "0\n"
     ]
    }
   ],
   "source": [
    "#ex 1\n",
    "print(\"insert n:\")\n",
    "n = int(input())\n",
    "initial_n = n # save to exclude printing the same number we wrote in input\n",
    "\n",
    "#skip first if not even: (we will decrement by 2)\n",
    "remainder = n % 2\n",
    "if remainder != 0:\n",
    "    n-=1\n",
    "\n",
    "while n>=0:\n",
    "    remainder = n % 2\n",
    "    if remainder == 0:\n",
    "        if n != initial_n:\n",
    "            print(n)\n",
    "        n-=2\n",
    "    else:\n",
    "        n=-1\n",
    "\n",
    "\n",
    "\n"
   ]
  },
  {
   "cell_type": "markdown",
   "metadata": {},
   "source": [
    "***\n",
    "\n",
    "# Ex2:\n",
    "\n",
    "Write a program that receives in input 10 positive integer values and outputs the maximum found and the iteration where it was received."
   ]
  },
  {
   "cell_type": "code",
   "execution_count": 27,
   "metadata": {},
   "outputs": [
    {
     "name": "stdout",
     "output_type": "stream",
     "text": [
      "2\n",
      "3\n",
      "3\n",
      "4\n",
      "4\n",
      "4\n",
      "5\n",
      "5\n",
      "2.33\n",
      "4\n",
      "max:  2.33  at iteration:  9\n"
     ]
    }
   ],
   "source": [
    "MAX_ITERATIONS = 10\n",
    "\n",
    "i = 0\n",
    "max = 0\n",
    "max_fractional_part = 0.0\n",
    "happenHere = 0\n",
    "while i<MAX_ITERATIONS:\n",
    "    n = float(raw_input())\n",
    "    fractional_part = n - int(n)\n",
    "    if fractional_part>max_fractional_part:\n",
    "        max_fractional_part = fractional_part\n",
    "        max = n\n",
    "        happenHere = i\n",
    "    i+=1\n",
    "\n",
    "print(\"max: \", max, \" at iteration: \", happenHere+1)\n"
   ]
  },
  {
   "cell_type": "code",
   "execution_count": null,
   "metadata": {},
   "outputs": [],
   "source": [
    "***\n",
    "\n",
    "# Ex3:\n",
    "\n",
    "Write a program that receives in input a positive integer value and outputs  its  factorial\n",
    "\n",
    "( https://en.wikipedia.org/wiki/Factorial )\n",
    "\n"
   ]
  },
  {
   "cell_type": "code",
   "execution_count": 19,
   "metadata": {},
   "outputs": [
    {
     "name": "stdout",
     "output_type": "stream",
     "text": [
      "n:\n"
     ]
    },
    {
     "ename": "NameError",
     "evalue": "name 'raw_input' is not defined",
     "output_type": "error",
     "traceback": [
      "\u001b[0;31m---------------------------------------------------------------------------\u001b[0m",
      "\u001b[0;31mNameError\u001b[0m                                 Traceback (most recent call last)",
      "\u001b[0;32m<ipython-input-19-0c029a54ea47>\u001b[0m in \u001b[0;36m<module>\u001b[0;34m\u001b[0m\n\u001b[1;32m      1\u001b[0m \u001b[0mprint\u001b[0m\u001b[0;34m(\u001b[0m\u001b[0;34m\"n:\"\u001b[0m\u001b[0;34m)\u001b[0m\u001b[0;34m\u001b[0m\u001b[0;34m\u001b[0m\u001b[0m\n\u001b[0;32m----> 2\u001b[0;31m \u001b[0mn\u001b[0m \u001b[0;34m=\u001b[0m \u001b[0mint\u001b[0m\u001b[0;34m(\u001b[0m\u001b[0mraw_input\u001b[0m\u001b[0;34m(\u001b[0m\u001b[0;34m)\u001b[0m\u001b[0;34m)\u001b[0m\u001b[0;34m\u001b[0m\u001b[0;34m\u001b[0m\u001b[0m\n\u001b[0m\u001b[1;32m      3\u001b[0m \u001b[0;34m\u001b[0m\u001b[0m\n\u001b[1;32m      4\u001b[0m \u001b[0mfact\u001b[0m \u001b[0;34m=\u001b[0m \u001b[0;36m1\u001b[0m\u001b[0;34m\u001b[0m\u001b[0;34m\u001b[0m\u001b[0m\n\u001b[1;32m      5\u001b[0m \u001b[0;32mwhile\u001b[0m \u001b[0mn\u001b[0m\u001b[0;34m>\u001b[0m\u001b[0;36m1\u001b[0m\u001b[0;34m:\u001b[0m\u001b[0;34m\u001b[0m\u001b[0;34m\u001b[0m\u001b[0m\n",
      "\u001b[0;31mNameError\u001b[0m: name 'raw_input' is not defined"
     ]
    }
   ],
   "source": [
    "print(\"n:\")\n",
    "n = int(raw_input())\n",
    "\n",
    "fact = 1\n",
    "while n>1:\n",
    "    fact*=n\n",
    "    n-=1\n",
    "        \n",
    "print(\"fact: \", fact)\n",
    "\n"
   ]
  },
  {
   "cell_type": "markdown",
   "metadata": {},
   "source": [
    "***\n",
    "\n",
    "## Ex4\n",
    "\n",
    "Write a program that receives in input 2 positive integer values and outputs  all their common dividers.\n",
    "If no dividers, (for example n = 7, m = 3) outputs \"No common dividers\"\n",
    "\n",
    "Example:\n",
    "n = 120\n",
    "n = 30\n",
    "\n",
    "Will output: 2 3 4 5 6 10 12 15 20 30 0\n",
    "    "
   ]
  },
  {
   "cell_type": "code",
   "execution_count": 20,
   "metadata": {},
   "outputs": [
    {
     "name": "stdout",
     "output_type": "stream",
     "text": [
      "n:\n",
      "12\n",
      "m:\n",
      "60\n",
      "2\n",
      "3\n",
      "4\n",
      "6\n"
     ]
    }
   ],
   "source": [
    "print(\"n:\")\n",
    "n = int(raw_input())\n",
    "\n",
    "print(\"m:\")\n",
    "m = int(raw_input())\n",
    "\n",
    "count = 0\n",
    "# stop at lower, so optimize loop:\n",
    "if m>n:\n",
    "    limit = n\n",
    "else:\n",
    "    limit = m\n",
    "\n",
    "i = 2\n",
    "while i<limit:\n",
    "    if n % i == 0 and n  % i == 0 :\n",
    "        print(i)\n",
    "        count+=1\n",
    "    i+=1\n",
    "        \n",
    "if count==0 : \n",
    "    print(\"No common dividers\")\n",
    "\n",
    "\n"
   ]
  },
  {
   "cell_type": "markdown",
   "metadata": {},
   "source": [
    "# Ex5\n",
    "\n",
    "During diving contest, points are assigned as follows:\n",
    "\n",
    "5 competition judges assign a score each.\n",
    "Final score is the double of the sum of all scores after removing higher and lower score.\n",
    "Write a program that receives in input 5 positive integer values representing the scores and outputs  the final score.\n",
    "\n",
    "\n",
    " Exeample:\n",
    "0\t8.0, 7.5, 7.5, 7.5, 7.0 = 22.5 x 2.0 = 45.0\n",
    "\n"
   ]
  },
  {
   "cell_type": "code",
   "execution_count": 25,
   "metadata": {},
   "outputs": [
    {
     "ename": "NameError",
     "evalue": "name 'raw_input' is not defined",
     "output_type": "error",
     "traceback": [
      "\u001b[0;31m---------------------------------------------------------------------------\u001b[0m",
      "\u001b[0;31mNameError\u001b[0m                                 Traceback (most recent call last)",
      "\u001b[0;32m<ipython-input-25-0006fce2ced2>\u001b[0m in \u001b[0;36m<module>\u001b[0;34m\u001b[0m\n\u001b[1;32m      6\u001b[0m \u001b[0;34m\u001b[0m\u001b[0m\n\u001b[1;32m      7\u001b[0m \u001b[0;32mwhile\u001b[0m \u001b[0mi\u001b[0m\u001b[0;34m<\u001b[0m\u001b[0mJUDGES\u001b[0m\u001b[0;34m:\u001b[0m\u001b[0;34m\u001b[0m\u001b[0;34m\u001b[0m\u001b[0m\n\u001b[0;32m----> 8\u001b[0;31m     \u001b[0mvote\u001b[0m \u001b[0;34m=\u001b[0m \u001b[0mfloat\u001b[0m\u001b[0;34m(\u001b[0m\u001b[0mraw_input\u001b[0m\u001b[0;34m(\u001b[0m\u001b[0;34m)\u001b[0m\u001b[0;34m)\u001b[0m\u001b[0;34m\u001b[0m\u001b[0;34m\u001b[0m\u001b[0m\n\u001b[0m\u001b[1;32m      9\u001b[0m     \u001b[0msum\u001b[0m\u001b[0;34m+=\u001b[0m\u001b[0mvote\u001b[0m\u001b[0;34m\u001b[0m\u001b[0;34m\u001b[0m\u001b[0m\n\u001b[1;32m     10\u001b[0m     \u001b[0;32mif\u001b[0m \u001b[0mvote\u001b[0m \u001b[0;34m>\u001b[0m \u001b[0mmax\u001b[0m\u001b[0;34m:\u001b[0m\u001b[0;34m\u001b[0m\u001b[0;34m\u001b[0m\u001b[0m\n",
      "\u001b[0;31mNameError\u001b[0m: name 'raw_input' is not defined"
     ]
    }
   ],
   "source": [
    "JUDGES = 5\n",
    "max = 0\n",
    "min = 10\n",
    "sum = 0\n",
    "i = 0\n",
    "\n",
    "while i<JUDGES:\n",
    "    vote = float(raw_input())\n",
    "    sum+=vote\n",
    "    if vote > max:\n",
    "        max = vote\n",
    "    if vote<min:\n",
    "        min = vote\n",
    "    i+=1\n",
    "\n",
    "tot = (sum - max - min) * 2\n",
    "print(tot)\n"
   ]
  },
  {
   "cell_type": "markdown",
   "metadata": {},
   "source": [
    "# Ex6\n",
    "\n",
    "Write a program that receives in input 2 positive integer values m and n, and outputs them if they form a Pythagorean triple.  \n",
    "Then program also outputs the other number (hypotenuse if we see them as a triangle)\n",
    "\n",
    "Assume numbers lower than 30.\n",
    "\n",
    "Example:\n",
    "3, 4  output:     3, 4, 5\n",
    "6, 8  output:     6, 8 10\n"
   ]
  },
  {
   "cell_type": "code",
   "execution_count": 24,
   "metadata": {},
   "outputs": [
    {
     "ename": "NameError",
     "evalue": "name 'raw_input' is not defined",
     "output_type": "error",
     "traceback": [
      "\u001b[0;31m---------------------------------------------------------------------------\u001b[0m",
      "\u001b[0;31mNameError\u001b[0m                                 Traceback (most recent call last)",
      "\u001b[0;32m<ipython-input-24-5ee0424a9daa>\u001b[0m in \u001b[0;36m<module>\u001b[0;34m\u001b[0m\n\u001b[0;32m----> 1\u001b[0;31m \u001b[0mn\u001b[0m \u001b[0;34m=\u001b[0m \u001b[0mint\u001b[0m\u001b[0;34m(\u001b[0m\u001b[0mraw_input\u001b[0m\u001b[0;34m(\u001b[0m\u001b[0;34m)\u001b[0m\u001b[0;34m)\u001b[0m\u001b[0;34m\u001b[0m\u001b[0;34m\u001b[0m\u001b[0m\n\u001b[0m\u001b[1;32m      2\u001b[0m \u001b[0mm\u001b[0m \u001b[0;34m=\u001b[0m \u001b[0mint\u001b[0m\u001b[0;34m(\u001b[0m\u001b[0mraw_input\u001b[0m\u001b[0;34m(\u001b[0m\u001b[0;34m)\u001b[0m\u001b[0;34m)\u001b[0m\u001b[0;34m\u001b[0m\u001b[0;34m\u001b[0m\u001b[0m\n\u001b[1;32m      3\u001b[0m \u001b[0;34m\u001b[0m\u001b[0m\n\u001b[1;32m      4\u001b[0m \u001b[0mi\u001b[0m \u001b[0;34m=\u001b[0m \u001b[0;36m2\u001b[0m\u001b[0;34m\u001b[0m\u001b[0;34m\u001b[0m\u001b[0m\n\u001b[1;32m      5\u001b[0m \u001b[0mlimit\u001b[0m \u001b[0;34m=\u001b[0m \u001b[0;36m30\u001b[0m \u001b[0;34m*\u001b[0m \u001b[0;36m30\u001b[0m\u001b[0;34m\u001b[0m\u001b[0;34m\u001b[0m\u001b[0m\n",
      "\u001b[0;31mNameError\u001b[0m: name 'raw_input' is not defined"
     ]
    }
   ],
   "source": [
    "n = int(raw_input())\n",
    "m = int(raw_input())\n",
    "\n",
    "i = 2\n",
    "0limit = 30 * 30\n",
    "while i<limit:\n",
    "    if n * n + m * m == i * i:\n",
    "        print(m, n, i)\n",
    "    i+=1\n"
   ]
  },
  {
   "cell_type": "markdown",
   "metadata": {},
   "source": [
    "# Ex7\n",
    "\n",
    "Ex7\n",
    "\n",
    "Write a program that asks the user that acquires an arbitrary sequence of positive integers, terminated when s/he inputs 0, computing and outputting at the end of the sequence, le longest growing sequence length.\n",
    "\n",
    "Example:\n",
    "\n",
    "3\t8\t4\t5\t1\t17\t0\n",
    "max len  = 2\n",
    "\n",
    "19\t18\t14\t9\t6\t4\t3  0\n",
    " max len  = 1\n",
    "\n",
    "1\t3\t6\t8\t0\t1\t12 0\n",
    "max len  = 4\n",
    "\n"
   ]
  },
  {
   "cell_type": "code",
   "execution_count": 1,
   "metadata": {},
   "outputs": [
    {
     "ename": "NameError",
     "evalue": "name 'raw_input' is not defined",
     "output_type": "error",
     "traceback": [
      "\u001b[0;31m---------------------------------------------------------------------------\u001b[0m",
      "\u001b[0;31mNameError\u001b[0m                                 Traceback (most recent call last)",
      "\u001b[0;32m<ipython-input-1-ccda479dbd6e>\u001b[0m in \u001b[0;36m<module>\u001b[0;34m\u001b[0m\n\u001b[1;32m      5\u001b[0m \u001b[0;34m\u001b[0m\u001b[0m\n\u001b[1;32m      6\u001b[0m \u001b[0;32mwhile\u001b[0m \u001b[0mn\u001b[0m\u001b[0;34m!=\u001b[0m\u001b[0;36m0\u001b[0m\u001b[0;34m:\u001b[0m\u001b[0;34m\u001b[0m\u001b[0;34m\u001b[0m\u001b[0m\n\u001b[0;32m----> 7\u001b[0;31m     \u001b[0mn\u001b[0m \u001b[0;34m=\u001b[0m \u001b[0mfloat\u001b[0m\u001b[0;34m(\u001b[0m\u001b[0mraw_input\u001b[0m\u001b[0;34m(\u001b[0m\u001b[0;34m)\u001b[0m\u001b[0;34m)\u001b[0m\u001b[0;34m\u001b[0m\u001b[0;34m\u001b[0m\u001b[0m\n\u001b[0m\u001b[1;32m      8\u001b[0m     \u001b[0;32mif\u001b[0m \u001b[0mn\u001b[0m\u001b[0;34m>\u001b[0m\u001b[0moldValue\u001b[0m\u001b[0;34m:\u001b[0m\u001b[0;34m\u001b[0m\u001b[0;34m\u001b[0m\u001b[0m\n\u001b[1;32m      9\u001b[0m         \u001b[0mcurrGrowingSequenceLen\u001b[0m\u001b[0;34m+=\u001b[0m\u001b[0;36m1\u001b[0m\u001b[0;34m\u001b[0m\u001b[0;34m\u001b[0m\u001b[0m\n",
      "\u001b[0;31mNameError\u001b[0m: name 'raw_input' is not defined"
     ]
    }
   ],
   "source": [
    "\n",
    "oldValue = 0\n",
    "maxGrowingSequenceLen = 0\n",
    "currGrowingSequenceLen = 0\n",
    "n = 1\n",
    "\n",
    "while n!=0:\n",
    "    n = float(raw_input())\n",
    "    if n>oldValue:\n",
    "        currGrowingSequenceLen+=1\n",
    "        oldValue = n\n",
    "    else:\n",
    "        oldValue = 0\n",
    "        currGrowingSequenceLen = 0\n",
    "        \n",
    "    if currGrowingSequenceLen>maxGrowingSequenceLen:\n",
    "        maxGrowingSequenceLen = currGrowingSequenceLen\n",
    "    \n",
    "print(maxGrowingSequenceLen)\n"
   ]
  },
  {
   "cell_type": "markdown",
   "metadata": {},
   "source": [
    "# Ex8\n",
    "\n",
    "\n",
    "In computer science there is a technique to detect errors, called parity. By definition we compute parity only on number less than 128.\n",
    "\n",
    "There are two types of parity, Even and Odd, that must be set before transmission.\n",
    "\n",
    "Parity bit is a bit added during transmission. Let's call it PB.\n",
    "\n",
    "First step is to compute the number of \"1\" bits.\n",
    "\n",
    "- if parity chosen is Even, total number of \"1\" bits including PB must be even.\n",
    "- if parity chosen is Odd,  total number of \"1\" bits including PB must be odd.\n",
    "\n",
    "Example: \n",
    "if n is 77, (1001101 in binary) \"1\" bits are 4, so if parity is Even, PB will be 0 (4 total \"1\")\n",
    "\n",
    "Write a program that receives in input a positive integer n, and outputs Parity Bit in case of \"even\" parity\n",
    "\n",
    "Hint: divide number by 2 to get single bits as remainder.\n",
    "\n",
    "2nd part: modify program to compute Parity Bit in case of \"odd\" parity."
   ]
  },
  {
   "cell_type": "code",
   "execution_count": 28,
   "metadata": {},
   "outputs": [
    {
     "ename": "NameError",
     "evalue": "name 'raw_input' is not defined",
     "output_type": "error",
     "traceback": [
      "\u001b[0;31m---------------------------------------------------------------------------\u001b[0m",
      "\u001b[0;31mNameError\u001b[0m                                 Traceback (most recent call last)",
      "\u001b[0;32m<ipython-input-28-c600de92c339>\u001b[0m in \u001b[0;36m<module>\u001b[0;34m\u001b[0m\n\u001b[1;32m      7\u001b[0m \u001b[0mparity\u001b[0m \u001b[0;34m=\u001b[0m \u001b[0mEVEN_PARITY\u001b[0m \u001b[0;31m#let's assume even\u001b[0m\u001b[0;34m\u001b[0m\u001b[0;34m\u001b[0m\u001b[0m\n\u001b[1;32m      8\u001b[0m \u001b[0;34m\u001b[0m\u001b[0m\n\u001b[0;32m----> 9\u001b[0;31m \u001b[0mn\u001b[0m \u001b[0;34m=\u001b[0m \u001b[0mint\u001b[0m\u001b[0;34m(\u001b[0m\u001b[0mraw_input\u001b[0m\u001b[0;34m(\u001b[0m\u001b[0;34m)\u001b[0m\u001b[0;34m)\u001b[0m\u001b[0;34m\u001b[0m\u001b[0;34m\u001b[0m\u001b[0m\n\u001b[0m\u001b[1;32m     10\u001b[0m \u001b[0mnumberOf1s\u001b[0m \u001b[0;34m=\u001b[0m \u001b[0;36m0\u001b[0m\u001b[0;34m\u001b[0m\u001b[0;34m\u001b[0m\u001b[0m\n\u001b[1;32m     11\u001b[0m \u001b[0;34m\u001b[0m\u001b[0m\n",
      "\u001b[0;31mNameError\u001b[0m: name 'raw_input' is not defined"
     ]
    }
   ],
   "source": [
    "#ex 8 parity\n",
    "\n",
    "\n",
    "ODD_PARITY = 1\n",
    "EVEN_PARITY = 0\n",
    "\n",
    "parity = EVEN_PARITY #let's assume even\n",
    "\n",
    "n = int(raw_input())\n",
    "numberOf1s = 0\n",
    "\n",
    "while n>0:\n",
    "    remainder = n % 2\n",
    "    if remainder == 1:\n",
    "        numberOf1s+=1\n",
    "    n = n /2\n",
    "\n",
    "parityBit = (numberOf1s + parity) % 2\n",
    "print(parityBit)\n"
   ]
  },
  {
   "cell_type": "markdown",
   "metadata": {},
   "source": [
    "# Ex9\n",
    "\n",
    "We want to process temperatures of some physical room in our plant.\n",
    "Room are mapped using an x,y coordinates relative to center of the plant (0,0)\n",
    "\n",
    "Write a program that first asks the user coordinates of her/his place, then asks how many triplets composed by x, y and temperature s/he will input, and then it acquires them all, computing and outputting at the end of the sequence, the temperature, x and y of the nearest place of received input values and TRUE if is it is also the hottest."
   ]
  },
  {
   "cell_type": "code",
   "execution_count": null,
   "metadata": {},
   "outputs": [],
   "source": [
    "0"
   ]
  }
 ],
 "metadata": {
  "kernelspec": {
   "display_name": "Python 3",
   "language": "python",
   "name": "python3"
  },
  "language_info": {
   "codemirror_mode": {
    "name": "ipython",
    "version": 3
   },
   "file_extension": ".py",
   "mimetype": "text/x-python",
   "name": "python",
   "nbconvert_exporter": "python",
   "pygments_lexer": "ipython3",
   "version": "3.8.5"
  }
 },
 "nbformat": 4,
 "nbformat_minor": 4
}
