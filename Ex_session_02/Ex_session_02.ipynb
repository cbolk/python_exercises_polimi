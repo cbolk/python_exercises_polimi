{
 "cells": [
  {
   "cell_type": "code",
   "execution_count": null,
   "metadata": {},
   "outputs": [],
   "source": [
    "# ex2.1\n",
    "\n",
    "### Write a program that receives in input a string value and outputs the number of uppercase vowels it contains.\n"
   ]
  },
  {
   "cell_type": "code",
   "execution_count": 1,
   "metadata": {},
   "outputs": [
    {
     "name": "stdout",
     "output_type": "stream",
     "text": [
      "AAIa\n",
      "3\n"
     ]
    }
   ],
   "source": [
    "#Write a program that receives in input a string value and outputs the number of uppercase vowels it contains.\n",
    "\n",
    "s = str(raw_input())\n",
    "len = len(s)\n",
    "upperCaseVowels = \"AIOUE\"\n",
    "vowelsCount = 0\n",
    "\n",
    "for i in range(0, len):\n",
    "    if s[i] in upperCaseVowels:\n",
    "        vowelsCount+=1\n",
    "    i -= 1\n",
    "\n",
    "print(str(vowelsCount))\n",
    "\n"
   ]
  },
  {
   "cell_type": "markdown",
   "metadata": {},
   "source": [
    "# ex2.2\n",
    "### Distance between lower and upper case of the same char constant: OFFSET = ord('a') - ord('A')\n",
    "### Write a program that receives in input a string and outputs the corresponding uppercase string."
   ]
  },
  {
   "cell_type": "code",
   "execution_count": 7,
   "metadata": {},
   "outputs": [
    {
     "name": "stdout",
     "output_type": "stream",
     "text": [
      "asda\n"
     ]
    },
    {
     "ename": "TypeError",
     "evalue": "'int' object is not callable",
     "output_type": "error",
     "traceback": [
      "\u001b[0;31m---------------------------------------------------------------------------\u001b[0m",
      "\u001b[0;31mTypeError\u001b[0m                                 Traceback (most recent call last)",
      "\u001b[0;32m<ipython-input-7-96bad41397b3>\u001b[0m in \u001b[0;36m<module>\u001b[0;34m()\u001b[0m\n\u001b[1;32m      7\u001b[0m \u001b[0ms\u001b[0m \u001b[0;34m=\u001b[0m \u001b[0mstr\u001b[0m\u001b[0;34m(\u001b[0m\u001b[0mraw_input\u001b[0m\u001b[0;34m(\u001b[0m\u001b[0;34m)\u001b[0m\u001b[0;34m)\u001b[0m\u001b[0;34m\u001b[0m\u001b[0m\n\u001b[1;32m      8\u001b[0m \u001b[0mi\u001b[0m \u001b[0;34m=\u001b[0m \u001b[0;36m0\u001b[0m\u001b[0;34m\u001b[0m\u001b[0m\n\u001b[0;32m----> 9\u001b[0;31m \u001b[0ml\u001b[0m \u001b[0;34m=\u001b[0m \u001b[0mlen\u001b[0m\u001b[0;34m(\u001b[0m\u001b[0ms\u001b[0m\u001b[0;34m)\u001b[0m\u001b[0;34m\u001b[0m\u001b[0m\n\u001b[0m\u001b[1;32m     10\u001b[0m \u001b[0;34m\u001b[0m\u001b[0m\n\u001b[1;32m     11\u001b[0m \u001b[0mresult\u001b[0m \u001b[0;34m=\u001b[0m \u001b[0;34m\"\"\u001b[0m\u001b[0;34m\u001b[0m\u001b[0m\n",
      "\u001b[0;31mTypeError\u001b[0m: 'int' object is not callable"
     ]
    }
   ],
   "source": [
    "# Distance between lower and upper case of the same char constant: OFFSET = ord(a') - ord(A')\n",
    "# Write a program that receives in input a string and outputs the corresponding uppercase string.\n",
    "# Use a const so you can easily switch to lowercase\n",
    "\n",
    "TO_UPPERCASE = True\n",
    "LOWERCASE_TO_UPPERCASE_DELTA = OFFSET = ord('a') - ord('A')\n",
    "s = str(raw_input())\n",
    "i = 0\n",
    "l = len(s)\n",
    "\n",
    "result = \"\"\n",
    "for i in range(0, l):\n",
    "    asciiCode = ord(s[i])\n",
    "    if TO_UPPERCASE and asciiCode >= ord('a') and asciiCode <= ord('z'):\n",
    "        result += chr(asciiCode - LOWERCASE_TO_UPPERCASE_DELTA)\n",
    "    elif not TO_UPPERCASE and asciiCode >= ord('A') and asciiCode <= ord('Z'):\n",
    "        result += chr(asciiCode + LOWERCASE_TO_UPPERCASE_DELTA)\n",
    "    else:\n",
    "        result += chr(asciiCode)\n",
    "    i += 1\n",
    "\n",
    "print(result)\n"
   ]
  },
  {
   "cell_type": "markdown",
   "metadata": {},
   "source": [
    "#ex 2.3\n",
    "### Write a program that asks the user a string containing only numeric chars, computing and outputting the corresponding integer value, or False if input contains non-numeric characters.\n"
   ]
  },
  {
   "cell_type": "code",
   "execution_count": 8,
   "metadata": {},
   "outputs": [
    {
     "name": "stdout",
     "output_type": "stream",
     "text": [
      "12q\n",
      "False\n"
     ]
    }
   ],
   "source": [
    "# Write a program that asks the user a string containing only numeric chars, computing and outputting the corresponding integer value,\n",
    "# or False if input contains non-numeric characters.\n",
    "\n",
    "seq = raw_input()\n",
    "if seq.isdigit():\n",
    "    val = int(seq)\n",
    "    isValid = True\n",
    "else:\n",
    "    isValid = False\n",
    "\n",
    "if isValid:  #prima il caso che vorremmo avere\n",
    "    print(str(val))\n",
    "else:\n",
    "    print(isValid)\n",
    "\n"
   ]
  },
  {
   "cell_type": "code",
   "execution_count": null,
   "metadata": {},
   "outputs": [],
   "source": [
    "# ex 2.4\n",
    "### Write a program that receives in input a sentence and outputs the occurrences of every char\n",
    "### contained, in alphabetical order\n",
    "### example:\n",
    "#### given:\n",
    "#### the quick brown fox jumps over the lazy dog\n",
    "#### you should have:\n",
    "#### [' ', 8]\n",
    "#### ['a', 1]\n",
    "#### ['b', 1]\n",
    "#### ['c', 1]\n",
    "#### ['d', 1]\n",
    "#### ['e', 3]\n",
    "#### and so on...\n"
   ]
  },
  {
   "cell_type": "code",
   "execution_count": 10,
   "metadata": {},
   "outputs": [
    {
     "name": "stdout",
     "output_type": "stream",
     "text": [
      "abddea\n",
      "['a', 2]\n",
      "['b', 1]\n",
      "['d', 2]\n",
      "['e', 1]\n"
     ]
    }
   ],
   "source": [
    "# ex 2.4\n",
    "###\n",
    "\n",
    "#Write a program that receives in input a sentence and outputs the occurrences of every char\n",
    "# contained, in alphabetical order\n",
    "# example:\n",
    "# given:\n",
    "# the quick brown fox jumps over the lazy dog\n",
    "# you should have:\n",
    "# [' ', 8]\n",
    "# ['a', 1]\n",
    "# ['b', 1]\n",
    "# ['c', 1]\n",
    "# ['d', 1]\n",
    "# ['e', 3]\n",
    "# and so on...\n",
    "\n",
    "#test:\n",
    "#s = \"the quick brown fox jumps over the lazy dog\"\n",
    "s = str(raw_input())\n",
    "\n",
    "chars = \"\"\n",
    "occurrences = []\n",
    "\n",
    "for ch in s:\n",
    "    l = len(occurrences)\n",
    "    if l == 0:\n",
    "        #first time:\n",
    "        occurrences.append([ch, 1])\n",
    "    else:\n",
    "        l = len(occurrences)\n",
    "        i = 0\n",
    "        found = False\n",
    "        while i<l and not found:\n",
    "            couple = occurrences[i]\n",
    "            if couple[0] == ch:\n",
    "                couple[1] += 1\n",
    "                found = True\n",
    "            i += 1\n",
    "        if not found:\n",
    "            occurrences.append([ch, 1])\n",
    "\n",
    "occurrences.sort()\n",
    "for couple in occurrences:\n",
    "    print(couple)\n"
   ]
  },
  {
   "cell_type": "markdown",
   "metadata": {},
   "source": [
    "# ex 2.5\n",
    "### tRNA sequences are in a form like this:\n",
    "\n",
    "#### \"GGGCCCGUAGCUCAGCCAGGUAGAGCGCCCGGCUCAUAACCGGGUGGUCGGGGGUUCAAAUCCCCCCGGGCCCACCA\".\n",
    "### Write a program that receives in input a string a representing the triplet, a string containing a sequence and outputs\n",
    "### the number of occurrences of the given triplet.\n",
    "### don't use built-in \"find\" function.\n",
    "\n",
    "\n",
    "#### example:\n",
    "#### \"GUA\"\n",
    "#### \"GGGCCCGUAGCUCAGCCAGUAG\"\n",
    "#### output: 2"
   ]
  },
  {
   "cell_type": "code",
   "execution_count": 1,
   "metadata": {},
   "outputs": [
    {
     "name": "stdout",
     "output_type": "stream",
     "text": [
      "GUA\n",
      "GGGCCCGUAGCUCAGCCAGUAG\n",
      "2\n"
     ]
    }
   ],
   "source": [
    "# tRNA sequences are in a form like this:\n",
    "\n",
    "#\"GGGCCCGUAGCUCAGCCAGGUAGAGCGCCCGGCUCAUAACCGGGUGGUCGGGGGUUCAAAUCCCCCCGGGCCCACCA\".\n",
    "# Write a program that receives in input a string representing a triplet, a string containing a sequence and outputs\n",
    "# the number of occurrences of the given triplet.\n",
    "# don't use built-in \"find\" function.\n",
    "\n",
    "#example:\n",
    "# \"GUA\"\n",
    "# \"GGGCCCGUAGCUCAGCCAGUAG\"\n",
    "# output: 2\n",
    "\n",
    "triplet = str(raw_input())\n",
    "seq = str(raw_input())\n",
    "\n",
    "seqLen = len(seq)\n",
    "tripletLen = len(triplet)\n",
    "\n",
    "if tripletLen % 3 == 0:\n",
    "    numtrip = 0\n",
    "    for i in range(0, seqLen, 3):\n",
    "        if seq[i:i+3] == triplet:\n",
    "            numtrip = numtrip + 1\n",
    "    print(numtrip)\n",
    "\n",
    "else:\n",
    "    print(False)\n",
    "\n"
   ]
  },
  {
   "cell_type": "code",
   "execution_count": null,
   "metadata": {},
   "outputs": [],
   "source": [
    "# ex 2.6\n",
    "\n",
    "### Write a program that asks the user 10 floats representing pH,\n",
    "### saves them in a list, computing and outputting\n",
    "### a plot of values using a '.'"
   ]
  },
  {
   "cell_type": "code",
   "execution_count": 3,
   "metadata": {},
   "outputs": [
    {
     "name": "stdout",
     "output_type": "stream",
     "text": [
      "11\n",
      "12\n",
      "13\n",
      "14\n",
      "12\n",
      "13\n",
      "12\n",
      "12\n",
      "13\n",
      "14\n",
      "(14, 11)\n",
      "14:    .     .\n",
      "13:   .  .  . \n",
      "12:  .  . ..  \n",
      "11: .         \n"
     ]
    }
   ],
   "source": [
    "### Write a program that asks the user 10 floats representing pH,\n",
    "### saves them in a list, computing and outputting\n",
    "### a plot of values using a '.' .\n",
    "\n",
    "N_OF_SAMPLES = 10\n",
    "pHSamples = [0] * N_OF_SAMPLES\n",
    "\n",
    "for i in range(0, N_OF_SAMPLES):\n",
    "    pHSamples[i] = float(raw_input())\n",
    "\n",
    "\n",
    "# find max and min to have a range:\n",
    "maxPH_asInt = int(max(pHSamples))\n",
    "minPH_asInt = int(min(pHSamples))\n",
    "\n",
    "print (maxPH_asInt, minPH_asInt)\n",
    "\n",
    "# start from highest\n",
    "for s in range(maxPH_asInt, minPH_asInt-1, -1):\n",
    "    line = '{:0>2}'.format(s) + \": \"\n",
    "    for i in range(0, N_OF_SAMPLES):\n",
    "        sampleAsInt = int(pHSamples[i])\n",
    "        if sampleAsInt == s:\n",
    "            line += \".\"\n",
    "        else:\n",
    "            line += \" \"\n",
    "\n",
    "    print(line)\n"
   ]
  },
  {
   "cell_type": "markdown",
   "metadata": {},
   "source": [
    "##### ex 2.7\n",
    "\n",
    "### Write a program that asks the user 12 integer weather temperatures for the current year, saves them in a list, computing and outputting an histogram plot of values using a '*'.\n",
    "### The histogram spans from min to max degrees.\n",
    "### Write the scale on left.\n",
    "\n",
    "### Example:\n",
    "\n",
    "<img src=\"histogram.png\" style=\"width: 200px;\"/>\n",
    "\n",
    "\n"
   ]
  },
  {
   "cell_type": "code",
   "execution_count": 5,
   "metadata": {
    "scrolled": true
   },
   "outputs": [
    {
     "name": "stdout",
     "output_type": "stream",
     "text": [
      "2\n",
      "3\n",
      "4\n",
      "5\n",
      "5\n",
      "6\n",
      "22\n",
      "1\n",
      "3\n",
      "2\n",
      "3\n",
      "23\n",
      "23:            *\n",
      "22:       *    *\n",
      "21:       *    *\n",
      "20:       *    *\n",
      "19:       *    *\n",
      "18:       *    *\n",
      "17:       *    *\n",
      "16:       *    *\n",
      "15:       *    *\n",
      "14:       *    *\n",
      "13:       *    *\n",
      "12:       *    *\n",
      "11:       *    *\n",
      "10:       *    *\n",
      "09:       *    *\n",
      "08:       *    *\n",
      "07:       *    *\n",
      "06:      **    *\n",
      "05:    ****    *\n",
      "04:   *****    *\n",
      "03:  ****** * **\n",
      "02: ******* ****\n"
     ]
    }
   ],
   "source": [
    "# Write a program that asks the user 12 integer weather temperatures for the current year, saves them in a list, computing and outputting\n",
    "# an histogram plot of values using a '*'.\n",
    "# The histogram spans from min to max degrees.\n",
    "# Write the scale on left.\n",
    "\n",
    "N_OF_MONTHS = 12\n",
    "temperatures = [0] * N_OF_MONTHS\n",
    "\n",
    "for i in range(0, N_OF_MONTHS):\n",
    "    temperatures[i] = int(raw_input())\n",
    "\n",
    "# find max and min to have a range:\n",
    "maxT = max(temperatures)\n",
    "minT = min(temperatures)\n",
    "\n",
    "# start from highest:\n",
    "for t in range(maxT, minT, -1):\n",
    "    line = '{:0>2}'.format(t) + \": \"\n",
    "    for i in range(0, N_OF_MONTHS):\n",
    "        if temperatures[i] >= t:\n",
    "            line += \"*\"\n",
    "        else:\n",
    "            line += \" \"\n",
    "\n",
    "    print(line)\n"
   ]
  },
  {
   "cell_type": "code",
   "execution_count": null,
   "metadata": {},
   "outputs": [],
   "source": [
    "# ex 2.8\n",
    "\n",
    "### Write a program that asks the user the number of patients of his ward.\n",
    "### For every patient the program asks the surname, 10 integer measures of blood pressure (mmHg), saves them in a lists, computing and outputting\n",
    "### The name of every patient with at least a measure of pressure 10% above the average of all measures."
   ]
  },
  {
   "cell_type": "code",
   "execution_count": 9,
   "metadata": {},
   "outputs": [
    {
     "name": "stdout",
     "output_type": "stream",
     "text": [
      "2\n",
      "name of patient  0: \n",
      "aa\n",
      "measure  0: \n",
      "1\n",
      "measure  1: \n",
      "1\n",
      "measure  2: \n",
      "1\n",
      "measure  3: \n",
      "1\n",
      "measure  4: \n",
      "2\n",
      "measure  5: \n",
      "1\n",
      "measure  6: \n",
      "1\n",
      "measure  7: \n",
      "1\n",
      "measure  8: \n",
      "1\n",
      "measure  9: \n",
      "1\n",
      "name of patient  1: \n",
      "bb\n",
      "measure  0: \n",
      "1\n",
      "measure  1: \n",
      "1\n",
      "measure  2: \n",
      "1\n",
      "measure  3: \n",
      "1\n",
      "measure  4: \n",
      "1\n",
      "measure  5: \n",
      "1\n",
      "measure  6: \n",
      "1\n",
      "measure  7: \n",
      "1\n",
      "measure  8: \n",
      "1\n",
      "measure  9: \n",
      "1\n",
      "aa\n"
     ]
    }
   ],
   "source": [
    "# Write a program that asks the user the number of patients of his ward.\n",
    "# For every patient the program asks the surname, 10 integer measures of blood pressure (mmHg), saves them in a lists, computing and outputting\n",
    "# The name of every patient with at least a measure of pressure 10% above the average of all measures.\n",
    "\n",
    "N_OF_MEASURES = 10\n",
    "patientNum = int(raw_input())\n",
    "nameAndmmHg = []\n",
    "\n",
    "for i in range(0, patientNum):\n",
    "    print(\"name of patient \" + '{: >2}'.format(i) + \": \")\n",
    "    name = str(raw_input())\n",
    "    mmHG = [0] * N_OF_MEASURES\n",
    "\n",
    "    for m in range(0, N_OF_MEASURES):\n",
    "        print(\"measure \" + '{: >2}'.format(m) + \": \" )\n",
    "        mmHG[m] = int(raw_input())\n",
    "\n",
    "    nameAndmmHg.append([name, mmHG])\n",
    "\n",
    "# dump to see:\n",
    "#for pd in nameAndmmHg:\n",
    "#    print (pd)\n",
    "\n",
    "if patientNum > 0:\n",
    "    sum = 0\n",
    "    for patientAndData in nameAndmmHg:\n",
    "        # print (patientAndData)\n",
    "        for m in patientAndData[1]:\n",
    "            sum += m\n",
    "\n",
    "    # now we have sum:\n",
    "    avg = sum / patientNum / N_OF_MEASURES\n",
    "    #debug: print (\"avg: \" + str(avg))\n",
    "\n",
    "    threeshold = avg * 1.1\n",
    "    for patientAndData in nameAndmmHg:\n",
    "        found = False\n",
    "        i = 0\n",
    "        while i < N_OF_MEASURES and not found:\n",
    "            m = patientAndData[1][i]\n",
    "            if m > threeshold:\n",
    "                print (patientAndData[0])\n",
    "                found = True\n",
    "            else:\n",
    "                i += 1\n",
    "else:\n",
    "    print(False)\n",
    "\n"
   ]
  },
  {
   "cell_type": "markdown",
   "metadata": {},
   "source": []
  }
 ],
 "metadata": {
  "kernelspec": {
   "display_name": "Python 3",
   "language": "python",
   "name": "python3"
  },
  "language_info": {
   "codemirror_mode": {
    "name": "ipython",
    "version": 3
   },
   "file_extension": ".py",
   "mimetype": "text/x-python",
   "name": "python",
   "nbconvert_exporter": "python",
   "pygments_lexer": "ipython3",
   "version": "3.9.0"
  }
 },
 "nbformat": 4,
 "nbformat_minor": 4
}
