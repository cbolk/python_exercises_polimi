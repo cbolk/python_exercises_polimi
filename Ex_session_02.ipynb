{
 "cells": [
  {
   "cell_type": "markdown",
   "metadata": {},
   "source": [
    "# ex2.1\n",
    "\n",
    "### Write a program that receives in input a string value and outputs the number of uppercase vowels it contains:\n"
   ]
  },
  {
   "cell_type": "code",
   "execution_count": 13,
   "metadata": {},
   "outputs": [
    {
     "name": "stdout",
     "output_type": "stream",
     "text": [
      "AAbdd VVC\n",
      "2\n"
     ]
    }
   ],
   "source": [
    "# Write a program that receives in input a string and outputs the corresponding uppercase string.\n",
    "\n",
    "s = str(raw_input())\n",
    "i = len(s)-1\n",
    "vowelsCount = 0\n",
    "while i >= 0:    \n",
    "    if s[i] == 'A' or s[i] == 'I' or s[i] == 'U' or s[i] == 'O' or s[i] == 'E':\n",
    "        vowelsCount+=1\n",
    "\n",
    "    i -= 1\n",
    "\n",
    "\n",
    "print(str(vowelsCount))\n"
   ]
  },
  {
   "cell_type": "markdown",
   "metadata": {},
   "source": [
    "# ex2.1 \"in\" variant\n",
    "### Write a program that receives in input a string value and outputs the number of uppercase vowels it contains:"
   ]
  },
  {
   "cell_type": "code",
   "execution_count": 18,
   "metadata": {},
   "outputs": [
    {
     "name": "stdout",
     "output_type": "stream",
     "text": [
      "AAII111aa\n",
      "4\n"
     ]
    }
   ],
   "source": [
    "#Write a program that receives in input a string value and outputs the number of uppercase vowels it contains:\n",
    "\n",
    "s = str(raw_input())\n",
    "i = len(s)-1\n",
    "upperCaseVowels = \"AIOUE\"\n",
    "vowelsCount = 0\n",
    "while i >= 0:    \n",
    "    if s[i] in upperCaseVowels:\n",
    "        vowelsCount+=1\n",
    "    i -= 1\n",
    "\n",
    "print(str(vowelsCount))\n"
   ]
  },
  {
   "cell_type": "markdown",
   "metadata": {},
   "source": [
    "# ex2.2\n",
    "### Distance between lower and upper case of the same char is 32.\n",
    "### Write a program that receives in input a string and outputs the corresponding uppercase string.\n"
   ]
  },
  {
   "cell_type": "code",
   "execution_count": 16,
   "metadata": {},
   "outputs": [
    {
     "name": "stdout",
     "output_type": "stream",
     "text": [
      "asdasA1\n",
      "ASDASA1\n"
     ]
    }
   ],
   "source": [
    "# Distance between lower and upper case of the same char is 32.\n",
    "# Write a program that receives in input a string and outputs the corresponding uppercase string.\n",
    "\n",
    "TO_UPPERCASE = True\n",
    "LOWERCASE_TO_UPPERCASE_DELTA = 32\n",
    "s = str(raw_input())\n",
    "i = 0\n",
    "result = \"\"\n",
    "while i<len(s):\n",
    "    asciiCode = ord(s[i])\n",
    "    if TO_UPPERCASE and asciiCode >= ord('a') and asciiCode <= ord('z'):\n",
    "        result += chr(asciiCode - LOWERCASE_TO_UPPERCASE_DELTA)\n",
    "    elif not TO_UPPERCASE and asciiCode >= ord('A') and asciiCode <= ord('Z'):\n",
    "        result += chr(asciiCode + LOWERCASE_TO_UPPERCASE_DELTA)\n",
    "    else:\n",
    "        result += chr(asciiCode)\n",
    "    i += 1\n",
    "\n",
    "print(result)\n"
   ]
  },
  {
   "cell_type": "markdown",
   "metadata": {},
   "source": [
    "#ex 2.3\n",
    "### Write a program that asks the user a string containing only numeric chars, computing and outputting the corresponding integer value, or False if input contains non-numeric characters.\n",
    "\n",
    "### Write it without using \"int()\" buit-in cast.\n"
   ]
  },
  {
   "cell_type": "code",
   "execution_count": 22,
   "metadata": {},
   "outputs": [
    {
     "name": "stdout",
     "output_type": "stream",
     "text": [
      "123\n",
      "123\n"
     ]
    }
   ],
   "source": [
    "# Write a program that asks the user a string containing only numeric chars, computing and outputting the corresponding integer value,\n",
    "# or False if input contains non-numeric characters.\n",
    "\n",
    "#Write it without using \"int()\" buit-in cast.\n",
    "\n",
    "BASE = 10\n",
    "wrongCharFound = False\n",
    "s = str(raw_input())\n",
    "i = 0\n",
    "powerOfTen=1\n",
    "result = 0\n",
    "while i<len(s) and not wrongCharFound:\n",
    "    digit = s[i]\n",
    "    if digit<'0' or digit>'9':\n",
    "        wrongCharFound = True\n",
    "    else:\n",
    "        intValue = ord(digit)-48\n",
    "        result = result * BASE + intValue\n",
    "        i += 1\n",
    "\n",
    "if wrongCharFound:\n",
    "    print(False)\n",
    "else:\n",
    "    print(result)"
   ]
  },
  {
   "cell_type": "markdown",
   "metadata": {},
   "source": [
    "# ex 2.4\n",
    "### tRNA sequences are in a form like this:\n",
    "\n",
    "#### \"GGGCCCGUAGCUCAGCCAGGUAGAGCGCCCGGCUCAUAACCGGGUGGUCGGGGGUUCAAAUCCCCCCGGGCCCACCA\".\n",
    "### Write a program that receives in input a string containing a sequence and outputs the number of occurrences of the triplet \"GUA\"\n",
    "\n",
    "### don't use built-in \"find\" function.\n",
    "\n",
    "#### example: \"GGGCCCGUAGCUCAGCCAGGUAG\"\n",
    "#### output: 2\n"
   ]
  },
  {
   "cell_type": "code",
   "execution_count": 25,
   "metadata": {},
   "outputs": [
    {
     "name": "stdout",
     "output_type": "stream",
     "text": [
      "GGGCCCGUAGCUCAGCCAGGUAG\n",
      "GUA\n",
      "2\n"
     ]
    }
   ],
   "source": [
    "# tRNA sequences are in a form like this:\n",
    "\n",
    "#\"GGGCCCGUAGCUCAGCCAGGUAGAGCGCCCGGCUCAUAACCGGGUGGUCGGGGGUUCAAAUCCCCCCGGGCCCACCA\".\n",
    "# Write a program that receives in input a string containing a sequence and outputs\n",
    "# the number of occurrences of the triplet \"GUA\"\n",
    "# don't use built-in \"find\" function.\n",
    "\n",
    "#example: \"GGGCCCGUAGCUCAGCCAGGUAG\"\n",
    "#output: 2\n",
    "\n",
    "seq = str(raw_input())\n",
    "triplet = str(raw_input())\n",
    "\n",
    "tripletLen = len(triplet)\n",
    "len=len(seq)\n",
    "i = 0\n",
    "result = 0\n",
    "stop = False\n",
    "\n",
    "while i<len:\n",
    "    j = 0\n",
    "    matchesTilNow = 0\n",
    "    while j<tripletLen and i+j < len and not stop:\n",
    "        ch = seq[i+j]\n",
    "        chInTriplet = triplet[j]\n",
    "        if ch == chInTriplet:\n",
    "            matchesTilNow += 1\n",
    "            if matchesTilNow == tripletLen:\n",
    "                result += 1\n",
    "                i = i + j\n",
    "        else:\n",
    "            stop = True\n",
    "        j += 1\n",
    "\n",
    "    i += 1\n",
    "    stop = False\n",
    "\n",
    "print(result)\n",
    "\n"
   ]
  },
  {
   "cell_type": "markdown",
   "metadata": {},
   "source": [
    "# ex 2.6\n",
    "\n",
    "## Your hospital uses a format to represent temperatures (expressed in Celsius integer degrees)\n",
    "## got during the 12 months of current year.\n",
    "## the format is fixed:\n",
    "## 5,6,7,12,16,25,26,22,18,10,5,5\n",
    "## Write a program that asks the user a string containing 12 temperatures, computing and outputting\n",
    "## an histogram plot of values using ''[]' for every 5 degrees, or False if string is not correct, or a value is negative\n",
    "## the histogram spans from 0 to 30 degrees.\n",
    "## Don't use find\n",
    "### Example:\n",
    "\n",
    "<img src=\"histogram.png\" style=\"width: 200px;\"/>\n",
    "\n",
    "\n"
   ]
  },
  {
   "cell_type": "code",
   "execution_count": null,
   "metadata": {},
   "outputs": [],
   "source": [
    "# Your hospital uses a format to represent temperatures (expressed in Celsius integer degrees)\n",
    "# got during the 12 months of current year.\n",
    "# the format is fixed:\n",
    "# 5,6,7,12,16,25,26,22,18,10,5,5\n",
    "# Write a program that asks the user a string containing 12 temperatures, computing and outputting\n",
    "# an histogram plot of values using '*' for every 5 degrees, or False if string is not correct, or a value# is negative\n",
    "# the histogram spans from 0 to 30 degrees.\n",
    "# write the scale on left.\n",
    "# Don't use find\n",
    "#Example:\n",
    "\n",
    "\n",
    "# 30:\n",
    "# 25:      **\n",
    "# 20:      ***\n",
    "# 15:     *****\n",
    "# 10:    *******\n",
    "# 05: ************\n",
    "\n",
    "\n",
    "N_OF_MONTHS = 12\n",
    "temperatures = str(raw_input())\n",
    "len = len(temperatures)\n",
    "month = 0\n",
    "\n",
    "i=0\n",
    "prev=0\n",
    "error = False\n",
    "\n",
    "while i<len and not error:\n",
    "    ch = temperatures[i]\n",
    "    if ch == \",\":\n",
    "        s = temperatures[prev:i]\n",
    "        if not s.isdigit():\n",
    "            error = True\n",
    "        else:\n",
    "            t = int(s)\n",
    "            prev=i+1\n",
    "            month+=1\n",
    "    i += 1\n",
    "\n",
    "if prev<len:    # take last number:\n",
    "    s = temperatures[prev:i]\n",
    "    if not s.isdigit():\n",
    "        error = True\n",
    "    else:\n",
    "        t = int(s)\n",
    "        month += 1\n",
    "\n",
    "if not error and month == 12:\n",
    "# same loop but inside a loop for values between 0..30 in steps of 5:\n",
    "\n",
    "    for degrees in range(30, 0, -5):\n",
    "        line = '{:0>2}'.format(degrees)  + \": \"\n",
    "\n",
    "        # same loop but no more checks, string is valid:\n",
    "        i=0\n",
    "        prev=0\n",
    "        while i<len and not error:\n",
    "            ch = temperatures[i]\n",
    "            if ch == \",\":\n",
    "                s = temperatures[prev:i]\n",
    "                t = int(s)\n",
    "                prev=i+1\n",
    "                if t >= degrees:\n",
    "                    line += \"*\"\n",
    "                else:\n",
    "                    line += \" \"\n",
    "            i += 1\n",
    "\n",
    "        if prev<len:    # take last number:\n",
    "            s = temperatures[prev:i]\n",
    "            t = int(s)\n",
    "            if t >= degrees:\n",
    "                line += \"*\"\n",
    "            else:\n",
    "                line += \" \"\n",
    "\n",
    "        print(line)\n",
    "else:\n",
    "    print(False)\n"
   ]
  },
  {
   "cell_type": "code",
   "execution_count": null,
   "metadata": {},
   "outputs": [],
   "source": []
  }
 ],
 "metadata": {
  "kernelspec": {
   "display_name": "Python 2",
   "language": "python",
   "name": "python2"
  },
  "language_info": {
   "codemirror_mode": {
    "name": "ipython",
    "version": 2
   },
   "file_extension": ".py",
   "mimetype": "text/x-python",
   "name": "python",
   "nbconvert_exporter": "python",
   "pygments_lexer": "ipython2",
   "version": "2.7.16"
  }
 },
 "nbformat": 4,
 "nbformat_minor": 4
}
